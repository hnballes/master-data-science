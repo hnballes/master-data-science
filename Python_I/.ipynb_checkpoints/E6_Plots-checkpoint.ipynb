{
 "cells": [
  {
   "cell_type": "markdown",
   "metadata": {},
   "source": [
    "# Plots"
   ]
  },
  {
   "cell_type": "code",
   "execution_count": 5,
   "metadata": {},
   "outputs": [],
   "source": [
    "import pandas as pd\n",
    "import numpy as np\n",
    "import matplotlib.pyplot as plt\n",
    "%matplotlib inline"
   ]
  },
  {
   "cell_type": "markdown",
   "metadata": {},
   "source": [
    "___"
   ]
  },
  {
   "cell_type": "markdown",
   "metadata": {},
   "source": [
    "## Plots"
   ]
  },
  {
   "cell_type": "markdown",
   "metadata": {},
   "source": [
    "- Crea dos array (x e y):\n",
    "    - x: 1000 números equiespaciados entre 0 a 3$\\pi$\n",
    "    - y: Resultado de aplicar la función $f(x) = \\frac{1}{2}\\sin^2(10 x) + \\cos(x)$"
   ]
  },
  {
   "cell_type": "markdown",
   "metadata": {},
   "source": [
    "- Crea un gráfico de y en función de x."
   ]
  },
  {
   "cell_type": "markdown",
   "metadata": {},
   "source": [
    "- Realiza el mismo gráfico anterior pero con una línea discontínua y verde"
   ]
  },
  {
   "cell_type": "markdown",
   "metadata": {},
   "source": [
    "- Añade el título \"Función f(x)\", y nombra a los ejex \"x\" e \"y\""
   ]
  },
  {
   "cell_type": "markdown",
   "metadata": {},
   "source": [
    "- Añade una leyenda que diga \"f(x)\""
   ]
  },
  {
   "cell_type": "markdown",
   "metadata": {},
   "source": [
    "- Crea otro array z:\n",
    "    - z: Resultado de aplicar la función $g(x) = \\frac{1}{2}\\sin(10 x) + \\cos^2(x)$"
   ]
  },
  {
   "cell_type": "markdown",
   "metadata": {},
   "source": [
    "- Crea un gráfico de dos columnas.\n",
    "    - Realiza un plot sencillo de $f(x)$ y de $g(x)$ en cada uno de ellos"
   ]
  },
  {
   "cell_type": "markdown",
   "metadata": {},
   "source": [
    "- Dibuja el mismo gráfico anterior pero con un estilo y color de línea diferente en cada uno."
   ]
  },
  {
   "cell_type": "markdown",
   "metadata": {},
   "source": [
    "- Aumenta el gráfico anterior de tamaño."
   ]
  },
  {
   "cell_type": "markdown",
   "metadata": {},
   "source": [
    "- Añade títulos a los ejes de cada figura, \"x\", \"f(x)\" y \"g(x)\""
   ]
  },
  {
   "cell_type": "markdown",
   "metadata": {},
   "source": [
    "- Guardalo en un fichero .png, .jpeg y .pdf."
   ]
  },
  {
   "cell_type": "markdown",
   "metadata": {},
   "source": [
    "- Ahora superpon en la misma figura ambas funciones con una legenda para cada una ('f(x)' y 'g(x)'), un título que diga \"f(x) y g(x)\", y nombra a los ejes \"x\" e \"y\"."
   ]
  },
  {
   "cell_type": "markdown",
   "metadata": {},
   "source": [
    "---"
   ]
  },
  {
   "cell_type": "markdown",
   "metadata": {},
   "source": [
    "## Distributions"
   ]
  },
  {
   "cell_type": "markdown",
   "metadata": {},
   "source": [
    "- Crea dos arrays\n",
    "    - normal: Un array de 1000 números aleatorios usando una distribución normal\n",
    "    - chi: Un array de 1000 números aleatorios usando una distribución $\\chi^2$ con 5 grados de libertad."
   ]
  },
  {
   "cell_type": "markdown",
   "metadata": {},
   "source": [
    "- Crea un scatter plot con los array anteriores."
   ]
  },
  {
   "cell_type": "markdown",
   "metadata": {},
   "source": [
    "- Crea un subplot de dos filas, y pinta en cada una de ellas un histograma para cada una de las distribuciones. Añade título y etiqueta los ejes como consideres."
   ]
  },
  {
   "cell_type": "markdown",
   "metadata": {},
   "source": [
    "- Ahora superpon ambas distribuciones en un único plot"
   ]
  },
  {
   "cell_type": "markdown",
   "metadata": {},
   "source": [
    "---"
   ]
  },
  {
   "cell_type": "markdown",
   "metadata": {},
   "source": [
    "## Pandas"
   ]
  },
  {
   "cell_type": "markdown",
   "metadata": {},
   "source": [
    "- A partir del siguiente dataframe"
   ]
  },
  {
   "cell_type": "code",
   "execution_count": 71,
   "metadata": {
    "collapsed": false,
    "editable": true,
    "jupyter": {
     "outputs_hidden": false
    }
   },
   "outputs": [
    {
     "data": {
      "text/html": [
       "<div>\n",
       "<style scoped>\n",
       "    .dataframe tbody tr th:only-of-type {\n",
       "        vertical-align: middle;\n",
       "    }\n",
       "\n",
       "    .dataframe tbody tr th {\n",
       "        vertical-align: top;\n",
       "    }\n",
       "\n",
       "    .dataframe thead th {\n",
       "        text-align: right;\n",
       "    }\n",
       "</style>\n",
       "<table border=\"1\" class=\"dataframe\">\n",
       "  <thead>\n",
       "    <tr style=\"text-align: right;\">\n",
       "      <th></th>\n",
       "      <th>S1</th>\n",
       "      <th>S2</th>\n",
       "      <th>S3</th>\n",
       "      <th>S4</th>\n",
       "    </tr>\n",
       "  </thead>\n",
       "  <tbody>\n",
       "    <tr>\n",
       "      <th>0</th>\n",
       "      <td>98.667600</td>\n",
       "      <td>100.123295</td>\n",
       "      <td>99.973150</td>\n",
       "      <td>99.389145</td>\n",
       "    </tr>\n",
       "    <tr>\n",
       "      <th>1</th>\n",
       "      <td>100.398847</td>\n",
       "      <td>99.647424</td>\n",
       "      <td>97.951353</td>\n",
       "      <td>98.074681</td>\n",
       "    </tr>\n",
       "    <tr>\n",
       "      <th>2</th>\n",
       "      <td>100.149118</td>\n",
       "      <td>98.850060</td>\n",
       "      <td>98.030371</td>\n",
       "      <td>97.698628</td>\n",
       "    </tr>\n",
       "    <tr>\n",
       "      <th>3</th>\n",
       "      <td>100.473702</td>\n",
       "      <td>98.671682</td>\n",
       "      <td>98.335572</td>\n",
       "      <td>97.225193</td>\n",
       "    </tr>\n",
       "    <tr>\n",
       "      <th>4</th>\n",
       "      <td>101.355052</td>\n",
       "      <td>98.891051</td>\n",
       "      <td>98.953483</td>\n",
       "      <td>97.662967</td>\n",
       "    </tr>\n",
       "    <tr>\n",
       "      <th>...</th>\n",
       "      <td>...</td>\n",
       "      <td>...</td>\n",
       "      <td>...</td>\n",
       "      <td>...</td>\n",
       "    </tr>\n",
       "    <tr>\n",
       "      <th>95</th>\n",
       "      <td>102.872528</td>\n",
       "      <td>85.938162</td>\n",
       "      <td>109.976565</td>\n",
       "      <td>111.974667</td>\n",
       "    </tr>\n",
       "    <tr>\n",
       "      <th>96</th>\n",
       "      <td>103.124286</td>\n",
       "      <td>84.285713</td>\n",
       "      <td>109.314318</td>\n",
       "      <td>111.082069</td>\n",
       "    </tr>\n",
       "    <tr>\n",
       "      <th>97</th>\n",
       "      <td>103.808234</td>\n",
       "      <td>84.955546</td>\n",
       "      <td>109.942144</td>\n",
       "      <td>112.123006</td>\n",
       "    </tr>\n",
       "    <tr>\n",
       "      <th>98</th>\n",
       "      <td>104.461323</td>\n",
       "      <td>85.369001</td>\n",
       "      <td>108.505791</td>\n",
       "      <td>111.465304</td>\n",
       "    </tr>\n",
       "    <tr>\n",
       "      <th>99</th>\n",
       "      <td>105.261758</td>\n",
       "      <td>84.212201</td>\n",
       "      <td>108.344149</td>\n",
       "      <td>112.746550</td>\n",
       "    </tr>\n",
       "  </tbody>\n",
       "</table>\n",
       "<p>100 rows × 4 columns</p>\n",
       "</div>"
      ],
      "text/plain": [
       "            S1          S2          S3          S4\n",
       "0    98.667600  100.123295   99.973150   99.389145\n",
       "1   100.398847   99.647424   97.951353   98.074681\n",
       "2   100.149118   98.850060   98.030371   97.698628\n",
       "3   100.473702   98.671682   98.335572   97.225193\n",
       "4   101.355052   98.891051   98.953483   97.662967\n",
       "..         ...         ...         ...         ...\n",
       "95  102.872528   85.938162  109.976565  111.974667\n",
       "96  103.124286   84.285713  109.314318  111.082069\n",
       "97  103.808234   84.955546  109.942144  112.123006\n",
       "98  104.461323   85.369001  108.505791  111.465304\n",
       "99  105.261758   84.212201  108.344149  112.746550\n",
       "\n",
       "[100 rows x 4 columns]"
      ]
     },
     "execution_count": 71,
     "metadata": {},
     "output_type": "execute_result"
    }
   ],
   "source": [
    "s = pd.DataFrame(np.random.randn(100, 4).cumsum(axis=0)+100,\n",
    "              index=np.arange(0, 100),\n",
    "             columns=['S1', 'S2', 'S3', 'S4'])\n",
    "s"
   ]
  },
  {
   "cell_type": "markdown",
   "metadata": {},
   "source": [
    "- Pinta todas las series en un úncio plot."
   ]
  },
  {
   "cell_type": "markdown",
   "metadata": {},
   "source": [
    "- Ahora pintalas en plots separados"
   ]
  },
  {
   "cell_type": "markdown",
   "metadata": {},
   "source": [
    "- Ahora pinta en un mismo gráfico una de las series anteriores y añade el volumen dado por la serie siguiente"
   ]
  },
  {
   "cell_type": "code",
   "execution_count": 74,
   "metadata": {},
   "outputs": [],
   "source": [
    "s['vol'] = pd.Series(np.random.rand(100), index = np.arange(100))*100"
   ]
  },
  {
   "cell_type": "markdown",
   "metadata": {},
   "source": [
    "- Mejor separalos en dos plots"
   ]
  },
  {
   "cell_type": "markdown",
   "metadata": {},
   "source": [
    "- Hacer plots es como pintar un cuadro, lleva tiempo.\n",
    "- [Stock chart plots](https://pythonprogramming.net/advanced-matplotlib-graphing-charting-tutorial/)."
   ]
  }
 ],
 "metadata": {
  "kernelspec": {
   "display_name": "Python 3",
   "language": "python",
   "name": "python3"
  },
  "language_info": {
   "codemirror_mode": {
    "name": "ipython",
    "version": 3
   },
   "file_extension": ".py",
   "mimetype": "text/x-python",
   "name": "python",
   "nbconvert_exporter": "python",
   "pygments_lexer": "ipython3",
   "version": "3.7.5"
  }
 },
 "nbformat": 4,
 "nbformat_minor": 4
}
