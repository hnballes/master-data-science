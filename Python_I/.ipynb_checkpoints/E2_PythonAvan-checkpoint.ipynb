{
 "cells": [
  {
   "cell_type": "markdown",
   "metadata": {},
   "source": [
    "# Ejercicios Python Avanzado"
   ]
  },
  {
   "cell_type": "markdown",
   "metadata": {},
   "source": [
    "___"
   ]
  },
  {
   "cell_type": "markdown",
   "metadata": {},
   "source": [
    "## 7. Control Flow"
   ]
  },
  {
   "cell_type": "markdown",
   "metadata": {},
   "source": [
    "### Condicionales\n",
    "\n",
    "- Escribe un scrip que comprube si un año es bisiesto usando condicionales.\n",
    "\n",
    "*Año bisiesto es el divisible entre 4, salvo que sea año secular -último de cada siglo, terminado en «00»-, en cuyo caso también ha de ser divisible entre 400.* Fuente [Wikipedia](https://es.wikipedia.org/wiki/A%C3%B1o_bisiesto)"
   ]
  },
  {
   "cell_type": "code",
   "execution_count": 15,
   "metadata": {},
   "outputs": [
    {
     "name": "stdin",
     "output_type": "stream",
     "text": [
      "introduce el año 190\n"
     ]
    },
    {
     "name": "stdout",
     "output_type": "stream",
     "text": [
      "año no bisiesto\n"
     ]
    }
   ],
   "source": [
    "a=int(input(\"introduce el año\"))\n",
    "\n",
    "if a%4==0 and a%100!=0:\n",
    "    print(\"el año es bisiesto\")\n",
    "elif a%4==0 and a%400==0:\n",
    "    print(\"el año es bisiesto\")\n",
    "else:\n",
    "    print(\"año no bisiesto\")"
   ]
  },
  {
   "cell_type": "markdown",
   "metadata": {},
   "source": [
    "### Bucles"
   ]
  },
  {
   "cell_type": "markdown",
   "metadata": {},
   "source": [
    "- Con un bucle `for` y un condicional encuentra todos los divisores de un número"
   ]
  },
  {
   "cell_type": "markdown",
   "metadata": {},
   "source": [
    "- Haz lo mismo pero con un bucle `while`."
   ]
  },
  {
   "cell_type": "markdown",
   "metadata": {},
   "source": [
    "- Encuentra el máximo divisor (distinto de él mismo) de un número con un bucle (`for` o `while`) y sal del bucle mismo cuando lo encuentres."
   ]
  },
  {
   "cell_type": "markdown",
   "metadata": {},
   "source": [
    "### map, filter, reduce"
   ]
  },
  {
   "cell_type": "markdown",
   "metadata": {},
   "source": [
    "Suma el cuadrado de los números divisibles entre un número A que hay hasta un número B usando `map`, `filter` y `reduce`"
   ]
  },
  {
   "cell_type": "markdown",
   "metadata": {},
   "source": [
    "### Exceptiones"
   ]
  },
  {
   "cell_type": "markdown",
   "metadata": {},
   "source": [
    "- Intenta dividir por cero y controla sólo esa excepción."
   ]
  },
  {
   "cell_type": "code",
   "execution_count": 8,
   "metadata": {},
   "outputs": [
    {
     "name": "stdout",
     "output_type": "stream",
     "text": [
      "no se puede dividir por 0,es una indeterminación\n"
     ]
    }
   ],
   "source": [
    "try:\n",
    "    f=5/0\n",
    "except:\n",
    "    print(\"no se puede dividir por 0,es una indeterminación\")"
   ]
  },
  {
   "cell_type": "markdown",
   "metadata": {},
   "source": [
    "### Debugger"
   ]
  },
  {
   "cell_type": "markdown",
   "metadata": {},
   "source": [
    "- Introduce una parada del pdb en algún punto de alguno de los códigos que has escrito arriba.\n",
    "    - Muestra el lugar donde estás\n",
    "    - Muestra todo el código\n",
    "    - Avanza pro el código\n",
    "    - Aborta\n",
    "    - Continua la ejecución"
   ]
  },
  {
   "cell_type": "code",
   "execution_count": 12,
   "metadata": {},
   "outputs": [
    {
     "name": "stdin",
     "output_type": "stream",
     "text": [
      "introduce el año 1900\n"
     ]
    },
    {
     "name": "stdout",
     "output_type": "stream",
     "text": [
      "> <ipython-input-12-163f0c1ca6a9>(11)<module>()->None\n",
      "-> print(\"año no bisiesto\")\n"
     ]
    },
    {
     "name": "stdin",
     "output_type": "stream",
     "text": [
      "(Pdb)  n\n"
     ]
    },
    {
     "name": "stdout",
     "output_type": "stream",
     "text": [
      "año no bisiesto\n",
      "--Return--\n",
      "> <ipython-input-12-163f0c1ca6a9>(11)<module>()->None\n",
      "-> print(\"año no bisiesto\")\n"
     ]
    },
    {
     "name": "stdin",
     "output_type": "stream",
     "text": [
      "(Pdb)  c\n"
     ]
    }
   ],
   "source": [
    "a=int(input(\"introduce el año\"))\n",
    "import pdb\n",
    "\n",
    "if a%4==0 and a%100!=0:\n",
    "    print(\"el año es bisiesto\")\n",
    "elif a%4==0 and a%400==0:\n",
    "    pdb.set_trace()\n",
    "    print(\"el año es bisiesto\")\n",
    "else:\n",
    "    pdb.set_trace()\n",
    "    print(\"año no bisiesto\")"
   ]
  },
  {
   "cell_type": "markdown",
   "metadata": {},
   "source": [
    "___"
   ]
  },
  {
   "cell_type": "markdown",
   "metadata": {},
   "source": [
    "## 8. Funciones"
   ]
  },
  {
   "cell_type": "markdown",
   "metadata": {},
   "source": [
    "- Define una función que calcule el número de vocales en una string pasada como argumento."
   ]
  },
  {
   "cell_type": "code",
   "execution_count": 4,
   "metadata": {},
   "outputs": [
    {
     "name": "stdout",
     "output_type": "stream",
     "text": [
      "11\n"
     ]
    }
   ],
   "source": [
    "def vocales(a):\n",
    "    count=0\n",
    "    for i in a:\n",
    "        if i==\"a\" or i==\"e\" or i==\"i\" or i==\"o\" or i==\"u\":\n",
    "            count += 1\n",
    "    return count\n",
    "print(vocales(\"hoy es viernes y mañana sabado\"))"
   ]
  },
  {
   "cell_type": "markdown",
   "metadata": {},
   "source": [
    "- Define una función que pregunte al usuario su año de nacimiento y calcule su edad"
   ]
  },
  {
   "cell_type": "code",
   "execution_count": 3,
   "metadata": {},
   "outputs": [
    {
     "name": "stdin",
     "output_type": "stream",
     "text": [
      "introduce tu año de nacimiento 1991\n"
     ]
    },
    {
     "data": {
      "text/plain": [
       "29"
      ]
     },
     "execution_count": 3,
     "metadata": {},
     "output_type": "execute_result"
    }
   ],
   "source": [
    "def edad():\n",
    "    a=int(input(\"introduce tu año de nacimiento\"))\n",
    "    edad=2020-a\n",
    "    return edad\n",
    "edad()"
   ]
  },
  {
   "cell_type": "markdown",
   "metadata": {},
   "source": [
    "___"
   ]
  },
  {
   "cell_type": "markdown",
   "metadata": {},
   "source": [
    "## 9. Módulos"
   ]
  },
  {
   "cell_type": "markdown",
   "metadata": {},
   "source": [
    "- Guarda las funciones definidas en el apartado anterior en un fichero `.py`"
   ]
  },
  {
   "cell_type": "code",
   "execution_count": 4,
   "metadata": {},
   "outputs": [
    {
     "name": "stdout",
     "output_type": "stream",
     "text": [
      "Overwriting ejerciciomodulos.py\n"
     ]
    }
   ],
   "source": [
    "%%file ejerciciomodulos.py\n",
    "\n",
    "def vocales(a):\n",
    "    count=0\n",
    "    for i in a:\n",
    "        if i==\"a\" or i==\"e\" or i==\"i\" or i==\"o\" or i==\"u\":\n",
    "            count += 1\n",
    "    return count\n",
    "print(vocales(\"hoy es viernes y mañana sabado\"))\n",
    "\n",
    "\n",
    "def edad():\n",
    "    a=int(input(\"introduce tu año de nacimiento\"))\n",
    "    edad=2020-a\n",
    "    return edad\n"
   ]
  },
  {
   "cell_type": "markdown",
   "metadata": {},
   "source": [
    "- Reinicia el kernel y comrpueba las variables que hay definidas en el namespace con magia."
   ]
  },
  {
   "cell_type": "code",
   "execution_count": 6,
   "metadata": {},
   "outputs": [
    {
     "name": "stdout",
     "output_type": "stream",
     "text": [
      "Variable           Type      Data/Info\n",
      "--------------------------------------\n",
      "ejerciciomodulos   module    <module 'ejerciciomodulos<...>n_I/ejerciciomodulos.py'>\n"
     ]
    }
   ],
   "source": [
    "%whos"
   ]
  },
  {
   "cell_type": "markdown",
   "metadata": {},
   "source": [
    "- Importa el módulo y usa una función."
   ]
  },
  {
   "cell_type": "code",
   "execution_count": 4,
   "metadata": {},
   "outputs": [
    {
     "name": "stdin",
     "output_type": "stream",
     "text": [
      "introduce tu año de nacimiento 1991\n"
     ]
    },
    {
     "data": {
      "text/plain": [
       "29"
      ]
     },
     "execution_count": 4,
     "metadata": {},
     "output_type": "execute_result"
    }
   ],
   "source": [
    "import ejerciciomodulos as ej\n",
    "\n",
    "ej.edad()"
   ]
  },
  {
   "cell_type": "markdown",
   "metadata": {},
   "source": [
    "- Importa sólo una función específica y úsala"
   ]
  },
  {
   "cell_type": "markdown",
   "metadata": {},
   "source": [
    "- Comprueba las variables definidas en el namespace."
   ]
  },
  {
   "cell_type": "markdown",
   "metadata": {},
   "source": [
    "___"
   ]
  },
  {
   "cell_type": "markdown",
   "metadata": {},
   "source": [
    "## 10. Ficheros"
   ]
  },
  {
   "cell_type": "markdown",
   "metadata": {},
   "source": [
    "- Lee las primeras 5 líneas del fichero de la cotización de google que se encuentra en la dirección `../data/googl.us.csv`"
   ]
  },
  {
   "cell_type": "code",
   "execution_count": 30,
   "metadata": {},
   "outputs": [
    {
     "name": "stdout",
     "output_type": "stream",
     "text": [
      "['Date,Open,High,Low,Close,Volume,OpenInt\\n', '2004-08-19,50,52.03,47.98,50.17,44703800,0\\n', '2004-08-20,50.505,54.54,50.25,54.155,22857200,0\\n', '2004-08-23,55.375,56.74,54.525,54.7,18274400,0\\n', '2004-08-24,55.62,55.8,51.785,52.435,15262600,0\\n']\n"
     ]
    }
   ],
   "source": [
    "with open(\"data/googl.us.csv\", \"r\") as f:\n",
    "        line = f.readlines(1000)[:5]\n",
    "print(line)"
   ]
  },
  {
   "cell_type": "markdown",
   "metadata": {},
   "source": [
    "- Escribe ahora las cinco primeras líneas en un nuevo fichero `tmp/file.csv` quitando el header"
   ]
  },
  {
   "cell_type": "code",
   "execution_count": 33,
   "metadata": {},
   "outputs": [],
   "source": [
    "with open(\"data/file.csv\",\"w\") as f:\n",
    "    f.writelines(line[0:5])"
   ]
  },
  {
   "cell_type": "markdown",
   "metadata": {},
   "source": [
    "- Ahora añade las líneas siguientes al archivo anterior"
   ]
  },
  {
   "cell_type": "code",
   "execution_count": 38,
   "metadata": {},
   "outputs": [],
   "source": [
    "with open(\"data/file.csv\",\"a\") as f:\n",
    "    f.writelines(line[6:])"
   ]
  },
  {
   "cell_type": "markdown",
   "metadata": {},
   "source": [
    "___"
   ]
  },
  {
   "cell_type": "markdown",
   "metadata": {},
   "source": [
    "## 11. Clases"
   ]
  },
  {
   "cell_type": "markdown",
   "metadata": {},
   "source": [
    "- Crea una clase que modele la conexión a una base de datos."
   ]
  }
 ],
 "metadata": {
  "kernelspec": {
   "display_name": "Python 3",
   "language": "python",
   "name": "python3"
  },
  "language_info": {
   "codemirror_mode": {
    "name": "ipython",
    "version": 3
   },
   "file_extension": ".py",
   "mimetype": "text/x-python",
   "name": "python",
   "nbconvert_exporter": "python",
   "pygments_lexer": "ipython3",
   "version": "3.7.1"
  }
 },
 "nbformat": 4,
 "nbformat_minor": 4
}
