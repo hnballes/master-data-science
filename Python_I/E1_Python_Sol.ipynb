{
 "cells": [
  {
   "cell_type": "markdown",
   "metadata": {},
   "source": [
    "# Ejercicios Python"
   ]
  },
  {
   "cell_type": "markdown",
   "metadata": {},
   "source": [
    "___"
   ]
  },
  {
   "cell_type": "markdown",
   "metadata": {},
   "source": [
    "## 1. Jupyter Notebooks"
   ]
  },
  {
   "cell_type": "markdown",
   "metadata": {},
   "source": [
    "### Notebooks y Markdown\n",
    "\n",
    "Crea un nuevo notebook y añade:\n",
    "- 3 títulos diferentes\n",
    "- Texto con diferentes formatos\n",
    "- Listas sin numerar y numeradas\n",
    "- Un link\n",
    "- Escribe ecuaciones en Latex (usando por ejemplo [este editor](https://www.tutorialspoint.com/latex_equation_editor.htm) para obtener el código correspondiente)\n",
    "- Una imagen\n",
    "- Código python\n",
    "- Celdas de código (definiendo e imprimiendo variables)\n",
    "- 5 funciones mágicas y úsalas"
   ]
  },
  {
   "cell_type": "markdown",
   "metadata": {},
   "source": [
    "# Titulo 1\n",
    "## Titulo 2\n",
    "### Titulo 3\n",
    "\n",
    "Hola!\n",
    "\n",
    "**Bold**\n",
    "\n",
    "*Italic*\n",
    "\n",
    "**_Boltalic_**\n",
    "\n",
    "- Buenos días!\n",
    "    - Buenas tardes\n",
    "        - Buenas noches\n",
    "\n",
    "1. Buenos días!\n",
    "    1. Buenas tardes\n",
    "        1. Buenas noches\n",
    "\n",
    "$$ \\int^{x}_{-\\infty} e^{-\\frac{t^2}{2\\sigma^2}} \\text{d}t$$\n",
    "\n",
    "```python\n",
    "import math\n",
    "math.sqrt(2) * math.tanh(5)\n",
    "```\n",
    "\n",
    "<center>\n",
    "<img style=\"width:125px\" src=\"../pictures/python.png\" alt=\"sieve shaker\" title=\"Title text\" />\n",
    "</center>"
   ]
  },
  {
   "cell_type": "code",
   "execution_count": 1,
   "metadata": {},
   "outputs": [
    {
     "name": "stdout",
     "output_type": "stream",
     "text": [
      "5\n",
      "4\n",
      "3\n",
      "2\n",
      "1\n"
     ]
    }
   ],
   "source": [
    "'''\n",
    "Esto es código Python\n",
    "'''\n",
    "for i in range(5):\n",
    "    print(5-i)"
   ]
  },
  {
   "cell_type": "code",
   "execution_count": 2,
   "metadata": {},
   "outputs": [
    {
     "name": "stdout",
     "output_type": "stream",
     "text": [
      "155 ms ± 12.4 ms per loop (mean ± std. dev. of 7 runs, 1 loop each)\n"
     ]
    }
   ],
   "source": [
    "%%timeit\n",
    "[i for i in range(10**6)]"
   ]
  },
  {
   "cell_type": "code",
   "execution_count": 3,
   "metadata": {},
   "outputs": [
    {
     "data": {
      "text/plain": [
       "['i']"
      ]
     },
     "execution_count": 3,
     "metadata": {},
     "output_type": "execute_result"
    }
   ],
   "source": [
    "%who_ls"
   ]
  },
  {
   "cell_type": "code",
   "execution_count": 4,
   "metadata": {},
   "outputs": [
    {
     "name": "stdout",
     "output_type": "stream",
     "text": [
      "'''\n",
      "Esto es código Python\n",
      "'''\n",
      "for i in range(5):\n",
      "    print(5-i)\n",
      "%%timeit\n",
      "[i for i in range(10**6)]\n",
      "%who_ls\n",
      "%history\n"
     ]
    }
   ],
   "source": [
    "%history"
   ]
  },
  {
   "cell_type": "code",
   "execution_count": 5,
   "metadata": {},
   "outputs": [
    {
     "name": "stdout",
     "output_type": "stream",
     "text": [
      "Writing test.py\n"
     ]
    }
   ],
   "source": [
    "%%file test.py\n",
    "a = 'python'\n",
    "print(a)"
   ]
  },
  {
   "cell_type": "code",
   "execution_count": 6,
   "metadata": {},
   "outputs": [
    {
     "data": {
      "text/plain": [
       "'/home/dsc/shared/Python_I'"
      ]
     },
     "execution_count": 6,
     "metadata": {},
     "output_type": "execute_result"
    }
   ],
   "source": [
    "%pwd"
   ]
  },
  {
   "cell_type": "markdown",
   "metadata": {},
   "source": [
    "### Kernels\n",
    "- Reinicia el kernel de tu notebook\n",
    "- Apágalo\n",
    "- Vuelve a asignarle un kernel nuevo\n",
    "- Crea otro notebook y asignale el kernel del anterior\n",
    "- Comprueba que las variables están presentes en ambos notebooks"
   ]
  },
  {
   "cell_type": "markdown",
   "metadata": {},
   "source": [
    "___"
   ]
  },
  {
   "cell_type": "markdown",
   "metadata": {},
   "source": [
    "## 2. Python básico"
   ]
  },
  {
   "cell_type": "markdown",
   "metadata": {},
   "source": [
    "- Escribe código y añade comentarios.\n",
    "- Escribe una línea de código lárga y pártela en varias líneas\n",
    "- Busca la ayuda de la función **map**\n",
    "- Asigna variables de tres formas diferentes\n",
    "- Define los 6 tipos de variables escalares en Python y comprueba su tipo\n",
    "- Transforma las variables entre ellas\n",
    "- Realiza las 7 operaciones aritméticas básicas en Python\n",
    "- Define una expresión lógica con al menos 3 operadores relacionales"
   ]
  },
  {
   "cell_type": "code",
   "execution_count": 7,
   "metadata": {},
   "outputs": [],
   "source": [
    "a = 1 # Que cansino que soy con la a"
   ]
  },
  {
   "cell_type": "code",
   "execution_count": 8,
   "metadata": {},
   "outputs": [],
   "source": [
    "b = 5 + 18 + a/23 - 15.8 + 2**5 \\\n",
    "    - 75.18 + 4j"
   ]
  },
  {
   "cell_type": "code",
   "execution_count": 9,
   "metadata": {},
   "outputs": [
    {
     "data": {
      "text/plain": [
       "\u001b[1;31mInit signature:\u001b[0m \u001b[0mmap\u001b[0m\u001b[1;33m(\u001b[0m\u001b[0mself\u001b[0m\u001b[1;33m,\u001b[0m \u001b[1;33m/\u001b[0m\u001b[1;33m,\u001b[0m \u001b[1;33m*\u001b[0m\u001b[0margs\u001b[0m\u001b[1;33m,\u001b[0m \u001b[1;33m**\u001b[0m\u001b[0mkwargs\u001b[0m\u001b[1;33m)\u001b[0m\u001b[1;33m\u001b[0m\u001b[1;33m\u001b[0m\u001b[0m\n",
       "\u001b[1;31mDocstring:\u001b[0m     \n",
       "map(func, *iterables) --> map object\n",
       "\n",
       "Make an iterator that computes the function using arguments from\n",
       "each of the iterables.  Stops when the shortest iterable is exhausted.\n",
       "\u001b[1;31mType:\u001b[0m           type\n",
       "\u001b[1;31mSubclasses:\u001b[0m     \n"
      ]
     },
     "metadata": {},
     "output_type": "display_data"
    }
   ],
   "source": [
    "?map"
   ]
  },
  {
   "cell_type": "code",
   "execution_count": 7,
   "metadata": {},
   "outputs": [],
   "source": [
    "var = 'str'\n",
    "a, b = 25, 8\n",
    "x = y = 12"
   ]
  },
  {
   "cell_type": "code",
   "execution_count": 8,
   "metadata": {},
   "outputs": [],
   "source": [
    "un_str = 'python'\n",
    "un_int = 7\n",
    "un_float = 2.5\n",
    "un_complex = -3+5j\n",
    "un_bool = 0 > 1\n",
    "un_none = None"
   ]
  },
  {
   "cell_type": "code",
   "execution_count": 9,
   "metadata": {},
   "outputs": [
    {
     "name": "stdout",
     "output_type": "stream",
     "text": [
      "<class 'str'>\n",
      "<class 'int'>\n",
      "<class 'float'>\n",
      "<class 'complex'>\n",
      "<class 'bool'>\n",
      "<class 'NoneType'>\n"
     ]
    }
   ],
   "source": [
    "print(type(un_str))\n",
    "print(type(un_int))\n",
    "print(type(un_float))\n",
    "print(type(un_complex))\n",
    "print(type(un_bool))\n",
    "print(type(un_none))"
   ]
  },
  {
   "cell_type": "code",
   "execution_count": 10,
   "metadata": {},
   "outputs": [
    {
     "data": {
      "text/plain": [
       "2"
      ]
     },
     "execution_count": 10,
     "metadata": {},
     "output_type": "execute_result"
    }
   ],
   "source": [
    "int(un_float)"
   ]
  },
  {
   "cell_type": "code",
   "execution_count": 11,
   "metadata": {},
   "outputs": [
    {
     "ename": "TypeError",
     "evalue": "can't convert complex to float",
     "output_type": "error",
     "traceback": [
      "\u001b[0;31m---------------------------------------------------------------------------\u001b[0m",
      "\u001b[0;31mTypeError\u001b[0m                                 Traceback (most recent call last)",
      "\u001b[0;32m<ipython-input-11-1a8bbb090655>\u001b[0m in \u001b[0;36m<module>\u001b[0;34m\u001b[0m\n\u001b[0;32m----> 1\u001b[0;31m \u001b[0mfloat\u001b[0m\u001b[0;34m(\u001b[0m\u001b[0mun_complex\u001b[0m\u001b[0;34m)\u001b[0m\u001b[0;34m\u001b[0m\u001b[0;34m\u001b[0m\u001b[0m\n\u001b[0m",
      "\u001b[0;31mTypeError\u001b[0m: can't convert complex to float"
     ]
    }
   ],
   "source": [
    "float(un_complex)"
   ]
  },
  {
   "cell_type": "code",
   "execution_count": 15,
   "metadata": {},
   "outputs": [
    {
     "data": {
      "text/plain": [
       "(7+0j)"
      ]
     },
     "execution_count": 15,
     "metadata": {},
     "output_type": "execute_result"
    }
   ],
   "source": [
    "complex(un_int)"
   ]
  },
  {
   "cell_type": "code",
   "execution_count": 16,
   "metadata": {},
   "outputs": [
    {
     "data": {
      "text/plain": [
       "'(-3+5j)'"
      ]
     },
     "execution_count": 16,
     "metadata": {},
     "output_type": "execute_result"
    }
   ],
   "source": [
    "str(un_complex)"
   ]
  },
  {
   "cell_type": "code",
   "execution_count": 17,
   "metadata": {},
   "outputs": [
    {
     "data": {
      "text/plain": [
       "7"
      ]
     },
     "execution_count": 17,
     "metadata": {},
     "output_type": "execute_result"
    }
   ],
   "source": [
    "2+5"
   ]
  },
  {
   "cell_type": "code",
   "execution_count": 18,
   "metadata": {},
   "outputs": [
    {
     "data": {
      "text/plain": [
       "0"
      ]
     },
     "execution_count": 18,
     "metadata": {},
     "output_type": "execute_result"
    }
   ],
   "source": [
    "8-8"
   ]
  },
  {
   "cell_type": "code",
   "execution_count": 19,
   "metadata": {},
   "outputs": [
    {
     "data": {
      "text/plain": [
       "42"
      ]
     },
     "execution_count": 19,
     "metadata": {},
     "output_type": "execute_result"
    }
   ],
   "source": [
    "7*6"
   ]
  },
  {
   "cell_type": "code",
   "execution_count": 20,
   "metadata": {},
   "outputs": [
    {
     "data": {
      "text/plain": [
       "1.6"
      ]
     },
     "execution_count": 20,
     "metadata": {},
     "output_type": "execute_result"
    }
   ],
   "source": [
    "8/5"
   ]
  },
  {
   "cell_type": "code",
   "execution_count": 21,
   "metadata": {},
   "outputs": [
    {
     "data": {
      "text/plain": [
       "298023223876953125"
      ]
     },
     "execution_count": 21,
     "metadata": {},
     "output_type": "execute_result"
    }
   ],
   "source": [
    "5**25"
   ]
  },
  {
   "cell_type": "code",
   "execution_count": 22,
   "metadata": {},
   "outputs": [
    {
     "data": {
      "text/plain": [
       "3.0"
      ]
     },
     "execution_count": 22,
     "metadata": {},
     "output_type": "execute_result"
    }
   ],
   "source": [
    "45//12.56"
   ]
  },
  {
   "cell_type": "code",
   "execution_count": 23,
   "metadata": {},
   "outputs": [
    {
     "data": {
      "text/plain": [
       "0"
      ]
     },
     "execution_count": 23,
     "metadata": {},
     "output_type": "execute_result"
    }
   ],
   "source": [
    "115511%11"
   ]
  },
  {
   "cell_type": "code",
   "execution_count": 12,
   "metadata": {},
   "outputs": [
    {
     "data": {
      "text/plain": [
       "True"
      ]
     },
     "execution_count": 12,
     "metadata": {},
     "output_type": "execute_result"
    }
   ],
   "source": [
    "(0 < 5) and (True or 5 != 5)"
   ]
  },
  {
   "cell_type": "markdown",
   "metadata": {},
   "source": [
    "- Escribe un código que solicite al usuario un número n y devuelva como resultado\n",
    "$$ n^2 + n^{\\frac{1}{2}}$$\n",
    "sin usar el módulo math."
   ]
  },
  {
   "cell_type": "code",
   "execution_count": null,
   "metadata": {},
   "outputs": [],
   "source": []
  },
  {
   "cell_type": "code",
   "execution_count": 26,
   "metadata": {},
   "outputs": [
    {
     "name": "stdin",
     "output_type": "stream",
     "text": [
      "Introduce un número 15\n"
     ]
    },
    {
     "name": "stdout",
     "output_type": "stream",
     "text": [
      "El resultado pedido es 228.8729833462074\n"
     ]
    }
   ],
   "source": [
    "user_input = input('Introduce un número')\n",
    "n = float(user_input)\n",
    "result = n**2 + n**(1/2)\n",
    "print(\"El resultado pedido es \" + str(result))"
   ]
  },
  {
   "cell_type": "markdown",
   "metadata": {},
   "source": [
    "- Escribe un código que compruebe que el número introducido por el usuario es divisible por 13."
   ]
  },
  {
   "cell_type": "code",
   "execution_count": 27,
   "metadata": {},
   "outputs": [
    {
     "name": "stdin",
     "output_type": "stream",
     "text": [
      "Introduce un número 78\n"
     ]
    },
    {
     "name": "stdout",
     "output_type": "stream",
     "text": [
      "El número 78 es divisible por 7: False\n"
     ]
    }
   ],
   "source": [
    "user_input = input('Introduce un número')\n",
    "n = int(user_input)\n",
    "result = n%7 == 0\n",
    "print(\"El número \"+ str(n) +\" es divisible por 7: \" + str(result))"
   ]
  },
  {
   "cell_type": "markdown",
   "metadata": {},
   "source": [
    "___"
   ]
  },
  {
   "cell_type": "markdown",
   "metadata": {},
   "source": [
    "## 3. Strings"
   ]
  },
  {
   "cell_type": "markdown",
   "metadata": {},
   "source": [
    "- Define el siguiente string en una variable:\n",
    "\n",
    "`'Python es un lenguaje muy útil para data science!'`\n",
    "\n",
    "Ahora:\n",
    "- Extrae la primera palabra\n",
    "- El último caracter\n",
    "- Calcula su longitud\n",
    "- Cuenta las \"y\"\n",
    "- Ponla en mayúsculas\n",
    "- Devuelve la frase del revés\n",
    "- Devuelve letras que ocupen una posición impar\n",
    "- Devuelve palabras que ocupen una posición par\n",
    "- Reemplaza todas las vocales por números (a->1, e->2, ...)\n",
    "- Entre cada caracter pon el símbolo &.\n",
    "- Define una f-string que use 3 formatos diferentes."
   ]
  },
  {
   "cell_type": "code",
   "execution_count": 28,
   "metadata": {},
   "outputs": [],
   "source": [
    "string = 'Python es un lenguaje muy útil para data science!'"
   ]
  },
  {
   "cell_type": "code",
   "execution_count": 29,
   "metadata": {},
   "outputs": [
    {
     "data": {
      "text/plain": [
       "'Python'"
      ]
     },
     "execution_count": 29,
     "metadata": {},
     "output_type": "execute_result"
    }
   ],
   "source": [
    "string.split()[0]"
   ]
  },
  {
   "cell_type": "code",
   "execution_count": 30,
   "metadata": {},
   "outputs": [
    {
     "data": {
      "text/plain": [
       "'!'"
      ]
     },
     "execution_count": 30,
     "metadata": {},
     "output_type": "execute_result"
    }
   ],
   "source": [
    "string[-1]"
   ]
  },
  {
   "cell_type": "code",
   "execution_count": 31,
   "metadata": {},
   "outputs": [
    {
     "data": {
      "text/plain": [
       "49"
      ]
     },
     "execution_count": 31,
     "metadata": {},
     "output_type": "execute_result"
    }
   ],
   "source": [
    "len(string)"
   ]
  },
  {
   "cell_type": "code",
   "execution_count": 32,
   "metadata": {},
   "outputs": [
    {
     "data": {
      "text/plain": [
       "2"
      ]
     },
     "execution_count": 32,
     "metadata": {},
     "output_type": "execute_result"
    }
   ],
   "source": [
    "string.count('y')"
   ]
  },
  {
   "cell_type": "code",
   "execution_count": 33,
   "metadata": {},
   "outputs": [
    {
     "data": {
      "text/plain": [
       "'PYTHON ES UN LENGUAJE MUY ÚTIL PARA DATA SCIENCE!'"
      ]
     },
     "execution_count": 33,
     "metadata": {},
     "output_type": "execute_result"
    }
   ],
   "source": [
    "string.upper()"
   ]
  },
  {
   "cell_type": "code",
   "execution_count": 34,
   "metadata": {},
   "outputs": [
    {
     "data": {
      "text/plain": [
       "'!ecneics atad arap litú yum ejaugnel nu se nohtyP'"
      ]
     },
     "execution_count": 34,
     "metadata": {},
     "output_type": "execute_result"
    }
   ],
   "source": [
    "string[::-1]"
   ]
  },
  {
   "cell_type": "code",
   "execution_count": 35,
   "metadata": {},
   "outputs": [
    {
     "data": {
      "text/plain": [
       "'Pto su egaemyúi aadt cec!'"
      ]
     },
     "execution_count": 35,
     "metadata": {},
     "output_type": "execute_result"
    }
   ],
   "source": [
    "string[0::2]"
   ]
  },
  {
   "cell_type": "code",
   "execution_count": 36,
   "metadata": {},
   "outputs": [
    {
     "data": {
      "text/plain": [
       "['es', 'lenguaje', 'útil', 'data']"
      ]
     },
     "execution_count": 36,
     "metadata": {},
     "output_type": "execute_result"
    }
   ],
   "source": [
    "string.split()[1::2]"
   ]
  },
  {
   "cell_type": "code",
   "execution_count": 37,
   "metadata": {},
   "outputs": [
    {
     "data": {
      "text/plain": [
       "'Pyth4n 2s 5n l2ng51j2 m5y út3l p1r1 d1t1 sc32nc2!'"
      ]
     },
     "execution_count": 37,
     "metadata": {},
     "output_type": "execute_result"
    }
   ],
   "source": [
    "string.replace('a', '1').replace('e', '2').replace('i', '3') \\\n",
    "      .replace('o', '4').replace('u', '5')"
   ]
  },
  {
   "cell_type": "code",
   "execution_count": 38,
   "metadata": {},
   "outputs": [
    {
     "data": {
      "text/plain": [
       "'P&y&t&h&o&n& &e&s& &u&n& &l&e&n&g&u&a&j&e& &m&u&y& &ú&t&i&l& &p&a&r&a& &d&a&t&a& &s&c&i&e&n&c&e&!'"
      ]
     },
     "execution_count": 38,
     "metadata": {},
     "output_type": "execute_result"
    }
   ],
   "source": [
    "'&'.join(string)"
   ]
  },
  {
   "cell_type": "code",
   "execution_count": 39,
   "metadata": {},
   "outputs": [
    {
     "name": "stdout",
     "output_type": "stream",
     "text": [
      "Esto tiene mucho sentido 1.732, 12.00% y &&&Hoy&&&&\n"
     ]
    }
   ],
   "source": [
    "import math\n",
    "a = math.sqrt(3)\n",
    "b = 0.12\n",
    "c = 'Hoy'\n",
    "fstring = f'Esto tiene mucho sentido {a:.3f}, {b:.2%} y {c:&^10}'\n",
    "print(fstring)"
   ]
  },
  {
   "cell_type": "markdown",
   "metadata": {},
   "source": [
    "___"
   ]
  },
  {
   "cell_type": "markdown",
   "metadata": {},
   "source": [
    "## 4. Listas"
   ]
  },
  {
   "cell_type": "markdown",
   "metadata": {},
   "source": [
    "- Construye una lista con 5 elementos de diferente tipo"
   ]
  },
  {
   "cell_type": "code",
   "execution_count": 40,
   "metadata": {},
   "outputs": [],
   "source": [
    "ok = [3.15, 'Yupi!', None, 8+4j, 12]"
   ]
  },
  {
   "cell_type": "markdown",
   "metadata": {},
   "source": [
    "- Añade un elemento nuevo"
   ]
  },
  {
   "cell_type": "code",
   "execution_count": 41,
   "metadata": {},
   "outputs": [
    {
     "data": {
      "text/plain": [
       "[3.15, 'Yupi!', None, (8+4j), 12, True]"
      ]
     },
     "execution_count": 41,
     "metadata": {},
     "output_type": "execute_result"
    }
   ],
   "source": [
    "ok.append(True)\n",
    "ok"
   ]
  },
  {
   "cell_type": "markdown",
   "metadata": {},
   "source": [
    "- Perdón, mejor quítalo"
   ]
  },
  {
   "cell_type": "code",
   "execution_count": 42,
   "metadata": {},
   "outputs": [
    {
     "data": {
      "text/plain": [
       "[3.15, 'Yupi!', None, (8+4j), 12]"
      ]
     },
     "execution_count": 42,
     "metadata": {},
     "output_type": "execute_result"
    }
   ],
   "source": [
    "ok.pop()\n",
    "ok"
   ]
  },
  {
   "cell_type": "markdown",
   "metadata": {},
   "source": [
    "- Bueno vale, inserta un elemento nuevo pero entre la primera y segunda posición"
   ]
  },
  {
   "cell_type": "code",
   "execution_count": 43,
   "metadata": {},
   "outputs": [
    {
     "data": {
      "text/plain": [
       "[3.15, 'aquí lo tienes', 'Yupi!', None, (8+4j), 12]"
      ]
     },
     "execution_count": 43,
     "metadata": {},
     "output_type": "execute_result"
    }
   ],
   "source": [
    "ok.insert(1, 'aquí lo tienes')\n",
    "ok"
   ]
  },
  {
   "cell_type": "markdown",
   "metadata": {},
   "source": [
    "- Pensándolo mejor, elimínalo"
   ]
  },
  {
   "cell_type": "code",
   "execution_count": 44,
   "metadata": {},
   "outputs": [
    {
     "data": {
      "text/plain": [
       "[3.15, 'Yupi!', None, (8+4j), 12]"
      ]
     },
     "execution_count": 44,
     "metadata": {},
     "output_type": "execute_result"
    }
   ],
   "source": [
    "del(ok[1])\n",
    "ok"
   ]
  },
  {
   "cell_type": "markdown",
   "metadata": {},
   "source": [
    "- ¿Cuántos elementos has puesto?"
   ]
  },
  {
   "cell_type": "code",
   "execution_count": 45,
   "metadata": {},
   "outputs": [
    {
     "data": {
      "text/plain": [
       "5"
      ]
     },
     "execution_count": 45,
     "metadata": {},
     "output_type": "execute_result"
    }
   ],
   "source": [
    "len(ok)"
   ]
  },
  {
   "cell_type": "markdown",
   "metadata": {},
   "source": [
    "- Yo que tú invertiría el orden de los elementos, queda mejor"
   ]
  },
  {
   "cell_type": "code",
   "execution_count": 48,
   "metadata": {},
   "outputs": [
    {
     "data": {
      "text/plain": [
       "[12, (8+4j), None, 'Yupi!', 3.15]"
      ]
     },
     "execution_count": 48,
     "metadata": {},
     "output_type": "execute_result"
    }
   ],
   "source": [
    "ok.reverse()\n",
    "ok"
   ]
  },
  {
   "cell_type": "markdown",
   "metadata": {},
   "source": [
    "- Asigna esa lista a otra variable, y cambia un elemento en alguna de ellas e imprime la otra"
   ]
  },
  {
   "cell_type": "code",
   "execution_count": 49,
   "metadata": {},
   "outputs": [
    {
     "data": {
      "text/plain": [
       "[12, (8+4j), None, 'Yupi!', 14348907]"
      ]
     },
     "execution_count": 49,
     "metadata": {},
     "output_type": "execute_result"
    }
   ],
   "source": [
    "ok_prima = ok\n",
    "ok[-1] = 3**15\n",
    "ok_prima"
   ]
  },
  {
   "cell_type": "markdown",
   "metadata": {},
   "source": [
    "- Haz lo mismo que antes pero evitando que se modifiquen ambas listas"
   ]
  },
  {
   "cell_type": "code",
   "execution_count": 50,
   "metadata": {},
   "outputs": [
    {
     "name": "stdout",
     "output_type": "stream",
     "text": [
      "[12, (8+4j), None, 'Yupi!', None]\n"
     ]
    },
    {
     "data": {
      "text/plain": [
       "[12, (8+4j), None, 'Yupi!', 14348907]"
      ]
     },
     "execution_count": 50,
     "metadata": {},
     "output_type": "execute_result"
    }
   ],
   "source": [
    "ok_prima = ok.copy()\n",
    "ok[-1] = None\n",
    "print(ok)\n",
    "ok_prima"
   ]
  },
  {
   "cell_type": "markdown",
   "metadata": {},
   "source": [
    "- Crea una lista con los número divisibles por 11 y 19 hasta 200 y otra lista con los números divisbles por 27 hasta el 200"
   ]
  },
  {
   "cell_type": "code",
   "execution_count": 51,
   "metadata": {},
   "outputs": [
    {
     "data": {
      "text/plain": [
       "[0, 19, 38, 57, 76, 95, 114, 133, 152, 171, 190]"
      ]
     },
     "execution_count": 51,
     "metadata": {},
     "output_type": "execute_result"
    }
   ],
   "source": [
    "lista_1 = [num for num in range(200+1) if num%1==0 and num%19==0]\n",
    "lista_1"
   ]
  },
  {
   "cell_type": "code",
   "execution_count": 52,
   "metadata": {},
   "outputs": [
    {
     "data": {
      "text/plain": [
       "[0, 27, 54, 81, 108, 135, 162, 189]"
      ]
     },
     "execution_count": 52,
     "metadata": {},
     "output_type": "execute_result"
    }
   ],
   "source": [
    "lista_2 = [num for num in range(200+1) if num%27==0]\n",
    "lista_2"
   ]
  },
  {
   "cell_type": "markdown",
   "metadata": {},
   "source": [
    "- Une ambas listas haciendo unpacking"
   ]
  },
  {
   "cell_type": "code",
   "execution_count": 53,
   "metadata": {},
   "outputs": [
    {
     "data": {
      "text/plain": [
       "[0,\n",
       " 19,\n",
       " 38,\n",
       " 57,\n",
       " 76,\n",
       " 95,\n",
       " 114,\n",
       " 133,\n",
       " 152,\n",
       " 171,\n",
       " 190,\n",
       " 0,\n",
       " 27,\n",
       " 54,\n",
       " 81,\n",
       " 108,\n",
       " 135,\n",
       " 162,\n",
       " 189]"
      ]
     },
     "execution_count": 53,
     "metadata": {},
     "output_type": "execute_result"
    }
   ],
   "source": [
    "[*lista_1, *lista_2]"
   ]
  },
  {
   "cell_type": "markdown",
   "metadata": {},
   "source": [
    "- No, mejor únelas con un método propio de las listas"
   ]
  },
  {
   "cell_type": "code",
   "execution_count": 54,
   "metadata": {},
   "outputs": [
    {
     "data": {
      "text/plain": [
       "[0,\n",
       " 19,\n",
       " 38,\n",
       " 57,\n",
       " 76,\n",
       " 95,\n",
       " 114,\n",
       " 133,\n",
       " 152,\n",
       " 171,\n",
       " 190,\n",
       " 0,\n",
       " 27,\n",
       " 54,\n",
       " 81,\n",
       " 108,\n",
       " 135,\n",
       " 162,\n",
       " 189]"
      ]
     },
     "execution_count": 54,
     "metadata": {},
     "output_type": "execute_result"
    }
   ],
   "source": [
    "lista_1.extend(lista_2)\n",
    "lista_1"
   ]
  },
  {
   "cell_type": "markdown",
   "metadata": {},
   "source": [
    "___"
   ]
  },
  {
   "cell_type": "markdown",
   "metadata": {},
   "source": [
    "## 5. Tuplas y Sets"
   ]
  },
  {
   "cell_type": "markdown",
   "metadata": {},
   "source": [
    "- Define una tupla con 4 elementos"
   ]
  },
  {
   "cell_type": "code",
   "execution_count": 55,
   "metadata": {},
   "outputs": [
    {
     "data": {
      "text/plain": [
       "(52.185, 'lluvia', 'nieve', False)"
      ]
     },
     "execution_count": 55,
     "metadata": {},
     "output_type": "execute_result"
    }
   ],
   "source": [
    "mi_tupla_bonita = (52.185, 'lluvia', 'nieve', False)\n",
    "mi_tupla_bonita"
   ]
  },
  {
   "cell_type": "markdown",
   "metadata": {},
   "source": [
    "- ¿Cuántos elementos te dije que pusieras?"
   ]
  },
  {
   "cell_type": "code",
   "execution_count": 56,
   "metadata": {},
   "outputs": [
    {
     "data": {
      "text/plain": [
       "4"
      ]
     },
     "execution_count": 56,
     "metadata": {},
     "output_type": "execute_result"
    }
   ],
   "source": [
    "len(mi_tupla_bonita)"
   ]
  },
  {
   "cell_type": "markdown",
   "metadata": {},
   "source": [
    "- Define una tupla que incluya un objeto mutable"
   ]
  },
  {
   "cell_type": "code",
   "execution_count": 57,
   "metadata": {},
   "outputs": [
    {
     "data": {
      "text/plain": [
       "([], None)"
      ]
     },
     "execution_count": 57,
     "metadata": {},
     "output_type": "execute_result"
    }
   ],
   "source": [
    "otra_tupla = ([], None)\n",
    "otra_tupla"
   ]
  },
  {
   "cell_type": "markdown",
   "metadata": {},
   "source": [
    "- Modifica el objeto mutable anterior e imprime la tupla"
   ]
  },
  {
   "cell_type": "code",
   "execution_count": 58,
   "metadata": {},
   "outputs": [
    {
     "data": {
      "text/plain": [
       "([5], None)"
      ]
     },
     "execution_count": 58,
     "metadata": {},
     "output_type": "execute_result"
    }
   ],
   "source": [
    "otra_tupla[0].append(5)\n",
    "otra_tupla"
   ]
  },
  {
   "cell_type": "markdown",
   "metadata": {},
   "source": [
    "- Define dos set con algunos elementos comunes"
   ]
  },
  {
   "cell_type": "code",
   "execution_count": 59,
   "metadata": {},
   "outputs": [
    {
     "data": {
      "text/plain": [
       "{'Azul', 'Naranja', 'Otoño', 'Primavera', 'Verano'}"
      ]
     },
     "execution_count": 59,
     "metadata": {},
     "output_type": "execute_result"
    }
   ],
   "source": [
    "A = {'Naranja', 'Azul', 'Verano', 'Primavera', 'Otoño'}\n",
    "A"
   ]
  },
  {
   "cell_type": "code",
   "execution_count": 60,
   "metadata": {},
   "outputs": [
    {
     "data": {
      "text/plain": [
       "{'Amarillo', 'Invierno', 'Naranja', 'Otoño', 'Verde'}"
      ]
     },
     "execution_count": 60,
     "metadata": {},
     "output_type": "execute_result"
    }
   ],
   "source": [
    "B = {'Amarillo', 'Verde', 'Naranja', 'Invierno', 'Otoño'}\n",
    "B"
   ]
  },
  {
   "cell_type": "markdown",
   "metadata": {},
   "source": [
    "- Calcula su unión e intersección"
   ]
  },
  {
   "cell_type": "code",
   "execution_count": 61,
   "metadata": {},
   "outputs": [
    {
     "data": {
      "text/plain": [
       "{'Amarillo',\n",
       " 'Azul',\n",
       " 'Invierno',\n",
       " 'Naranja',\n",
       " 'Otoño',\n",
       " 'Primavera',\n",
       " 'Verano',\n",
       " 'Verde'}"
      ]
     },
     "execution_count": 61,
     "metadata": {},
     "output_type": "execute_result"
    }
   ],
   "source": [
    "A.union(B)"
   ]
  },
  {
   "cell_type": "code",
   "execution_count": 62,
   "metadata": {},
   "outputs": [
    {
     "data": {
      "text/plain": [
       "{'Naranja', 'Otoño'}"
      ]
     },
     "execution_count": 62,
     "metadata": {},
     "output_type": "execute_result"
    }
   ],
   "source": [
    "A.intersection(B)"
   ]
  },
  {
   "cell_type": "markdown",
   "metadata": {},
   "source": [
    "- Calcula su diferencia simétrica"
   ]
  },
  {
   "cell_type": "code",
   "execution_count": 63,
   "metadata": {},
   "outputs": [
    {
     "data": {
      "text/plain": [
       "{'Amarillo', 'Azul', 'Invierno', 'Primavera', 'Verano', 'Verde'}"
      ]
     },
     "execution_count": 63,
     "metadata": {},
     "output_type": "execute_result"
    }
   ],
   "source": [
    "A.symmetric_difference(B)"
   ]
  },
  {
   "cell_type": "markdown",
   "metadata": {},
   "source": [
    "___"
   ]
  },
  {
   "cell_type": "markdown",
   "metadata": {},
   "source": [
    "## 6. Diccionarios"
   ]
  },
  {
   "cell_type": "markdown",
   "metadata": {},
   "source": [
    "- Define un diccionario con 5 elementos usando PEP8"
   ]
  },
  {
   "cell_type": "code",
   "execution_count": 64,
   "metadata": {},
   "outputs": [],
   "source": [
    "dic = {\n",
    "    'Fruta': 'Naranja',\n",
    "    'Mueble': 'Tele',\n",
    "    'Dulce': 'Tarta',\n",
    "    'Frío': 'Invierno',\n",
    "    'Calor': 'Verano',\n",
    "}"
   ]
  },
  {
   "cell_type": "markdown",
   "metadata": {},
   "source": [
    "- Accede al elemento que quieras"
   ]
  },
  {
   "cell_type": "code",
   "execution_count": 65,
   "metadata": {},
   "outputs": [
    {
     "data": {
      "text/plain": [
       "'Verano'"
      ]
     },
     "execution_count": 65,
     "metadata": {},
     "output_type": "execute_result"
    }
   ],
   "source": [
    "dic['Calor']"
   ]
  },
  {
   "cell_type": "markdown",
   "metadata": {},
   "source": [
    "- Define dos listas, una de llaves y otra de valores y crea un diccionario a partir de ellas"
   ]
  },
  {
   "cell_type": "code",
   "execution_count": 67,
   "metadata": {},
   "outputs": [
    {
     "data": {
      "text/plain": [
       "{'Rojo': 'Fresa',\n",
       " 'Amarillo': 'Limón',\n",
       " 'Verde': 'Pistacho',\n",
       " 'Azul': 'Cielo',\n",
       " 'Blanco': 'Nieve'}"
      ]
     },
     "execution_count": 67,
     "metadata": {},
     "output_type": "execute_result"
    }
   ],
   "source": [
    "llaves = ['Rojo', 'Amarillo', 'Verde', 'Azul', 'Blanco']\n",
    "valores = ['Fresa', 'Limón', 'Pistacho', 'Cielo', 'Nieve']\n",
    "mi_dic = {key: value for key, value in zip(llaves, valores)}\n",
    "mi_dic"
   ]
  },
  {
   "cell_type": "markdown",
   "metadata": {},
   "source": [
    "- Ahora devuelve las llaves del diccioanrio anterior como una lista"
   ]
  },
  {
   "cell_type": "code",
   "execution_count": 68,
   "metadata": {},
   "outputs": [
    {
     "data": {
      "text/plain": [
       "['Rojo', 'Amarillo', 'Verde', 'Azul', 'Blanco']"
      ]
     },
     "execution_count": 68,
     "metadata": {},
     "output_type": "execute_result"
    }
   ],
   "source": [
    "list(mi_dic.keys())"
   ]
  },
  {
   "cell_type": "markdown",
   "metadata": {},
   "source": [
    "- Y los valores también"
   ]
  },
  {
   "cell_type": "code",
   "execution_count": 69,
   "metadata": {},
   "outputs": [
    {
     "data": {
      "text/plain": [
       "['Fresa', 'Limón', 'Pistacho', 'Cielo', 'Nieve']"
      ]
     },
     "execution_count": 69,
     "metadata": {},
     "output_type": "execute_result"
    }
   ],
   "source": [
    "list(mi_dic.values())"
   ]
  },
  {
   "cell_type": "markdown",
   "metadata": {},
   "source": [
    "- Crea un único diccionario con los dos diccionares que has creado haciendo unpacking"
   ]
  },
  {
   "cell_type": "code",
   "execution_count": 70,
   "metadata": {},
   "outputs": [
    {
     "data": {
      "text/plain": [
       "{'Fruta': 'Naranja',\n",
       " 'Mueble': 'Tele',\n",
       " 'Dulce': 'Tarta',\n",
       " 'Frío': 'Invierno',\n",
       " 'Calor': 'Verano',\n",
       " 'Rojo': 'Fresa',\n",
       " 'Amarillo': 'Limón',\n",
       " 'Verde': 'Pistacho',\n",
       " 'Azul': 'Cielo',\n",
       " 'Blanco': 'Nieve'}"
      ]
     },
     "execution_count": 70,
     "metadata": {},
     "output_type": "execute_result"
    }
   ],
   "source": [
    "{**dic, **mi_dic}"
   ]
  },
  {
   "cell_type": "markdown",
   "metadata": {},
   "source": [
    "- Crea un único diccionario con los dos diccionarios que has creado con un método propio"
   ]
  },
  {
   "cell_type": "code",
   "execution_count": 71,
   "metadata": {},
   "outputs": [
    {
     "data": {
      "text/plain": [
       "{'Fruta': 'Naranja',\n",
       " 'Mueble': 'Tele',\n",
       " 'Dulce': 'Tarta',\n",
       " 'Frío': 'Invierno',\n",
       " 'Calor': 'Verano',\n",
       " 'Rojo': 'Fresa',\n",
       " 'Amarillo': 'Limón',\n",
       " 'Verde': 'Pistacho',\n",
       " 'Azul': 'Cielo',\n",
       " 'Blanco': 'Nieve'}"
      ]
     },
     "execution_count": 71,
     "metadata": {},
     "output_type": "execute_result"
    }
   ],
   "source": [
    "dic.update(mi_dic)\n",
    "dic"
   ]
  },
  {
   "cell_type": "markdown",
   "metadata": {},
   "source": [
    "- Crea un diccionario donde las keys sean los números del 1 al 1000 y los valores sean un set con cifras que componen dicho número"
   ]
  },
  {
   "cell_type": "code",
   "execution_count": 72,
   "metadata": {},
   "outputs": [
    {
     "data": {
      "text/plain": [
       "{0: {'0'},\n",
       " 1: {'1'},\n",
       " 2: {'2'},\n",
       " 3: {'3'},\n",
       " 4: {'4'},\n",
       " 5: {'5'},\n",
       " 6: {'6'},\n",
       " 7: {'7'},\n",
       " 8: {'8'},\n",
       " 9: {'9'},\n",
       " 10: {'0', '1'},\n",
       " 11: {'1'},\n",
       " 12: {'1', '2'},\n",
       " 13: {'1', '3'},\n",
       " 14: {'1', '4'},\n",
       " 15: {'1', '5'},\n",
       " 16: {'1', '6'},\n",
       " 17: {'1', '7'},\n",
       " 18: {'1', '8'},\n",
       " 19: {'1', '9'},\n",
       " 20: {'0', '2'},\n",
       " 21: {'1', '2'},\n",
       " 22: {'2'},\n",
       " 23: {'2', '3'},\n",
       " 24: {'2', '4'},\n",
       " 25: {'2', '5'},\n",
       " 26: {'2', '6'},\n",
       " 27: {'2', '7'},\n",
       " 28: {'2', '8'},\n",
       " 29: {'2', '9'},\n",
       " 30: {'0', '3'},\n",
       " 31: {'1', '3'},\n",
       " 32: {'2', '3'},\n",
       " 33: {'3'},\n",
       " 34: {'3', '4'},\n",
       " 35: {'3', '5'},\n",
       " 36: {'3', '6'},\n",
       " 37: {'3', '7'},\n",
       " 38: {'3', '8'},\n",
       " 39: {'3', '9'},\n",
       " 40: {'0', '4'},\n",
       " 41: {'1', '4'},\n",
       " 42: {'2', '4'},\n",
       " 43: {'3', '4'},\n",
       " 44: {'4'},\n",
       " 45: {'4', '5'},\n",
       " 46: {'4', '6'},\n",
       " 47: {'4', '7'},\n",
       " 48: {'4', '8'},\n",
       " 49: {'4', '9'},\n",
       " 50: {'0', '5'},\n",
       " 51: {'1', '5'},\n",
       " 52: {'2', '5'},\n",
       " 53: {'3', '5'},\n",
       " 54: {'4', '5'},\n",
       " 55: {'5'},\n",
       " 56: {'5', '6'},\n",
       " 57: {'5', '7'},\n",
       " 58: {'5', '8'},\n",
       " 59: {'5', '9'},\n",
       " 60: {'0', '6'},\n",
       " 61: {'1', '6'},\n",
       " 62: {'2', '6'},\n",
       " 63: {'3', '6'},\n",
       " 64: {'4', '6'},\n",
       " 65: {'5', '6'},\n",
       " 66: {'6'},\n",
       " 67: {'6', '7'},\n",
       " 68: {'6', '8'},\n",
       " 69: {'6', '9'},\n",
       " 70: {'0', '7'},\n",
       " 71: {'1', '7'},\n",
       " 72: {'2', '7'},\n",
       " 73: {'3', '7'},\n",
       " 74: {'4', '7'},\n",
       " 75: {'5', '7'},\n",
       " 76: {'6', '7'},\n",
       " 77: {'7'},\n",
       " 78: {'7', '8'},\n",
       " 79: {'7', '9'},\n",
       " 80: {'0', '8'},\n",
       " 81: {'1', '8'},\n",
       " 82: {'2', '8'},\n",
       " 83: {'3', '8'},\n",
       " 84: {'4', '8'},\n",
       " 85: {'5', '8'},\n",
       " 86: {'6', '8'},\n",
       " 87: {'7', '8'},\n",
       " 88: {'8'},\n",
       " 89: {'8', '9'},\n",
       " 90: {'0', '9'},\n",
       " 91: {'1', '9'},\n",
       " 92: {'2', '9'},\n",
       " 93: {'3', '9'},\n",
       " 94: {'4', '9'},\n",
       " 95: {'5', '9'},\n",
       " 96: {'6', '9'},\n",
       " 97: {'7', '9'},\n",
       " 98: {'8', '9'},\n",
       " 99: {'9'},\n",
       " 100: {'0', '1'},\n",
       " 101: {'0', '1'},\n",
       " 102: {'0', '1', '2'},\n",
       " 103: {'0', '1', '3'},\n",
       " 104: {'0', '1', '4'},\n",
       " 105: {'0', '1', '5'},\n",
       " 106: {'0', '1', '6'},\n",
       " 107: {'0', '1', '7'},\n",
       " 108: {'0', '1', '8'},\n",
       " 109: {'0', '1', '9'},\n",
       " 110: {'0', '1'},\n",
       " 111: {'1'},\n",
       " 112: {'1', '2'},\n",
       " 113: {'1', '3'},\n",
       " 114: {'1', '4'},\n",
       " 115: {'1', '5'},\n",
       " 116: {'1', '6'},\n",
       " 117: {'1', '7'},\n",
       " 118: {'1', '8'},\n",
       " 119: {'1', '9'},\n",
       " 120: {'0', '1', '2'},\n",
       " 121: {'1', '2'},\n",
       " 122: {'1', '2'},\n",
       " 123: {'1', '2', '3'},\n",
       " 124: {'1', '2', '4'},\n",
       " 125: {'1', '2', '5'},\n",
       " 126: {'1', '2', '6'},\n",
       " 127: {'1', '2', '7'},\n",
       " 128: {'1', '2', '8'},\n",
       " 129: {'1', '2', '9'},\n",
       " 130: {'0', '1', '3'},\n",
       " 131: {'1', '3'},\n",
       " 132: {'1', '2', '3'},\n",
       " 133: {'1', '3'},\n",
       " 134: {'1', '3', '4'},\n",
       " 135: {'1', '3', '5'},\n",
       " 136: {'1', '3', '6'},\n",
       " 137: {'1', '3', '7'},\n",
       " 138: {'1', '3', '8'},\n",
       " 139: {'1', '3', '9'},\n",
       " 140: {'0', '1', '4'},\n",
       " 141: {'1', '4'},\n",
       " 142: {'1', '2', '4'},\n",
       " 143: {'1', '3', '4'},\n",
       " 144: {'1', '4'},\n",
       " 145: {'1', '4', '5'},\n",
       " 146: {'1', '4', '6'},\n",
       " 147: {'1', '4', '7'},\n",
       " 148: {'1', '4', '8'},\n",
       " 149: {'1', '4', '9'},\n",
       " 150: {'0', '1', '5'},\n",
       " 151: {'1', '5'},\n",
       " 152: {'1', '2', '5'},\n",
       " 153: {'1', '3', '5'},\n",
       " 154: {'1', '4', '5'},\n",
       " 155: {'1', '5'},\n",
       " 156: {'1', '5', '6'},\n",
       " 157: {'1', '5', '7'},\n",
       " 158: {'1', '5', '8'},\n",
       " 159: {'1', '5', '9'},\n",
       " 160: {'0', '1', '6'},\n",
       " 161: {'1', '6'},\n",
       " 162: {'1', '2', '6'},\n",
       " 163: {'1', '3', '6'},\n",
       " 164: {'1', '4', '6'},\n",
       " 165: {'1', '5', '6'},\n",
       " 166: {'1', '6'},\n",
       " 167: {'1', '6', '7'},\n",
       " 168: {'1', '6', '8'},\n",
       " 169: {'1', '6', '9'},\n",
       " 170: {'0', '1', '7'},\n",
       " 171: {'1', '7'},\n",
       " 172: {'1', '2', '7'},\n",
       " 173: {'1', '3', '7'},\n",
       " 174: {'1', '4', '7'},\n",
       " 175: {'1', '5', '7'},\n",
       " 176: {'1', '6', '7'},\n",
       " 177: {'1', '7'},\n",
       " 178: {'1', '7', '8'},\n",
       " 179: {'1', '7', '9'},\n",
       " 180: {'0', '1', '8'},\n",
       " 181: {'1', '8'},\n",
       " 182: {'1', '2', '8'},\n",
       " 183: {'1', '3', '8'},\n",
       " 184: {'1', '4', '8'},\n",
       " 185: {'1', '5', '8'},\n",
       " 186: {'1', '6', '8'},\n",
       " 187: {'1', '7', '8'},\n",
       " 188: {'1', '8'},\n",
       " 189: {'1', '8', '9'},\n",
       " 190: {'0', '1', '9'},\n",
       " 191: {'1', '9'},\n",
       " 192: {'1', '2', '9'},\n",
       " 193: {'1', '3', '9'},\n",
       " 194: {'1', '4', '9'},\n",
       " 195: {'1', '5', '9'},\n",
       " 196: {'1', '6', '9'},\n",
       " 197: {'1', '7', '9'},\n",
       " 198: {'1', '8', '9'},\n",
       " 199: {'1', '9'},\n",
       " 200: {'0', '2'},\n",
       " 201: {'0', '1', '2'},\n",
       " 202: {'0', '2'},\n",
       " 203: {'0', '2', '3'},\n",
       " 204: {'0', '2', '4'},\n",
       " 205: {'0', '2', '5'},\n",
       " 206: {'0', '2', '6'},\n",
       " 207: {'0', '2', '7'},\n",
       " 208: {'0', '2', '8'},\n",
       " 209: {'0', '2', '9'},\n",
       " 210: {'0', '1', '2'},\n",
       " 211: {'1', '2'},\n",
       " 212: {'1', '2'},\n",
       " 213: {'1', '2', '3'},\n",
       " 214: {'1', '2', '4'},\n",
       " 215: {'1', '2', '5'},\n",
       " 216: {'1', '2', '6'},\n",
       " 217: {'1', '2', '7'},\n",
       " 218: {'1', '2', '8'},\n",
       " 219: {'1', '2', '9'},\n",
       " 220: {'0', '2'},\n",
       " 221: {'1', '2'},\n",
       " 222: {'2'},\n",
       " 223: {'2', '3'},\n",
       " 224: {'2', '4'},\n",
       " 225: {'2', '5'},\n",
       " 226: {'2', '6'},\n",
       " 227: {'2', '7'},\n",
       " 228: {'2', '8'},\n",
       " 229: {'2', '9'},\n",
       " 230: {'0', '2', '3'},\n",
       " 231: {'1', '2', '3'},\n",
       " 232: {'2', '3'},\n",
       " 233: {'2', '3'},\n",
       " 234: {'2', '3', '4'},\n",
       " 235: {'2', '3', '5'},\n",
       " 236: {'2', '3', '6'},\n",
       " 237: {'2', '3', '7'},\n",
       " 238: {'2', '3', '8'},\n",
       " 239: {'2', '3', '9'},\n",
       " 240: {'0', '2', '4'},\n",
       " 241: {'1', '2', '4'},\n",
       " 242: {'2', '4'},\n",
       " 243: {'2', '3', '4'},\n",
       " 244: {'2', '4'},\n",
       " 245: {'2', '4', '5'},\n",
       " 246: {'2', '4', '6'},\n",
       " 247: {'2', '4', '7'},\n",
       " 248: {'2', '4', '8'},\n",
       " 249: {'2', '4', '9'},\n",
       " 250: {'0', '2', '5'},\n",
       " 251: {'1', '2', '5'},\n",
       " 252: {'2', '5'},\n",
       " 253: {'2', '3', '5'},\n",
       " 254: {'2', '4', '5'},\n",
       " 255: {'2', '5'},\n",
       " 256: {'2', '5', '6'},\n",
       " 257: {'2', '5', '7'},\n",
       " 258: {'2', '5', '8'},\n",
       " 259: {'2', '5', '9'},\n",
       " 260: {'0', '2', '6'},\n",
       " 261: {'1', '2', '6'},\n",
       " 262: {'2', '6'},\n",
       " 263: {'2', '3', '6'},\n",
       " 264: {'2', '4', '6'},\n",
       " 265: {'2', '5', '6'},\n",
       " 266: {'2', '6'},\n",
       " 267: {'2', '6', '7'},\n",
       " 268: {'2', '6', '8'},\n",
       " 269: {'2', '6', '9'},\n",
       " 270: {'0', '2', '7'},\n",
       " 271: {'1', '2', '7'},\n",
       " 272: {'2', '7'},\n",
       " 273: {'2', '3', '7'},\n",
       " 274: {'2', '4', '7'},\n",
       " 275: {'2', '5', '7'},\n",
       " 276: {'2', '6', '7'},\n",
       " 277: {'2', '7'},\n",
       " 278: {'2', '7', '8'},\n",
       " 279: {'2', '7', '9'},\n",
       " 280: {'0', '2', '8'},\n",
       " 281: {'1', '2', '8'},\n",
       " 282: {'2', '8'},\n",
       " 283: {'2', '3', '8'},\n",
       " 284: {'2', '4', '8'},\n",
       " 285: {'2', '5', '8'},\n",
       " 286: {'2', '6', '8'},\n",
       " 287: {'2', '7', '8'},\n",
       " 288: {'2', '8'},\n",
       " 289: {'2', '8', '9'},\n",
       " 290: {'0', '2', '9'},\n",
       " 291: {'1', '2', '9'},\n",
       " 292: {'2', '9'},\n",
       " 293: {'2', '3', '9'},\n",
       " 294: {'2', '4', '9'},\n",
       " 295: {'2', '5', '9'},\n",
       " 296: {'2', '6', '9'},\n",
       " 297: {'2', '7', '9'},\n",
       " 298: {'2', '8', '9'},\n",
       " 299: {'2', '9'},\n",
       " 300: {'0', '3'},\n",
       " 301: {'0', '1', '3'},\n",
       " 302: {'0', '2', '3'},\n",
       " 303: {'0', '3'},\n",
       " 304: {'0', '3', '4'},\n",
       " 305: {'0', '3', '5'},\n",
       " 306: {'0', '3', '6'},\n",
       " 307: {'0', '3', '7'},\n",
       " 308: {'0', '3', '8'},\n",
       " 309: {'0', '3', '9'},\n",
       " 310: {'0', '1', '3'},\n",
       " 311: {'1', '3'},\n",
       " 312: {'1', '2', '3'},\n",
       " 313: {'1', '3'},\n",
       " 314: {'1', '3', '4'},\n",
       " 315: {'1', '3', '5'},\n",
       " 316: {'1', '3', '6'},\n",
       " 317: {'1', '3', '7'},\n",
       " 318: {'1', '3', '8'},\n",
       " 319: {'1', '3', '9'},\n",
       " 320: {'0', '2', '3'},\n",
       " 321: {'1', '2', '3'},\n",
       " 322: {'2', '3'},\n",
       " 323: {'2', '3'},\n",
       " 324: {'2', '3', '4'},\n",
       " 325: {'2', '3', '5'},\n",
       " 326: {'2', '3', '6'},\n",
       " 327: {'2', '3', '7'},\n",
       " 328: {'2', '3', '8'},\n",
       " 329: {'2', '3', '9'},\n",
       " 330: {'0', '3'},\n",
       " 331: {'1', '3'},\n",
       " 332: {'2', '3'},\n",
       " 333: {'3'},\n",
       " 334: {'3', '4'},\n",
       " 335: {'3', '5'},\n",
       " 336: {'3', '6'},\n",
       " 337: {'3', '7'},\n",
       " 338: {'3', '8'},\n",
       " 339: {'3', '9'},\n",
       " 340: {'0', '3', '4'},\n",
       " 341: {'1', '3', '4'},\n",
       " 342: {'2', '3', '4'},\n",
       " 343: {'3', '4'},\n",
       " 344: {'3', '4'},\n",
       " 345: {'3', '4', '5'},\n",
       " 346: {'3', '4', '6'},\n",
       " 347: {'3', '4', '7'},\n",
       " 348: {'3', '4', '8'},\n",
       " 349: {'3', '4', '9'},\n",
       " 350: {'0', '3', '5'},\n",
       " 351: {'1', '3', '5'},\n",
       " 352: {'2', '3', '5'},\n",
       " 353: {'3', '5'},\n",
       " 354: {'3', '4', '5'},\n",
       " 355: {'3', '5'},\n",
       " 356: {'3', '5', '6'},\n",
       " 357: {'3', '5', '7'},\n",
       " 358: {'3', '5', '8'},\n",
       " 359: {'3', '5', '9'},\n",
       " 360: {'0', '3', '6'},\n",
       " 361: {'1', '3', '6'},\n",
       " 362: {'2', '3', '6'},\n",
       " 363: {'3', '6'},\n",
       " 364: {'3', '4', '6'},\n",
       " 365: {'3', '5', '6'},\n",
       " 366: {'3', '6'},\n",
       " 367: {'3', '6', '7'},\n",
       " 368: {'3', '6', '8'},\n",
       " 369: {'3', '6', '9'},\n",
       " 370: {'0', '3', '7'},\n",
       " 371: {'1', '3', '7'},\n",
       " 372: {'2', '3', '7'},\n",
       " 373: {'3', '7'},\n",
       " 374: {'3', '4', '7'},\n",
       " 375: {'3', '5', '7'},\n",
       " 376: {'3', '6', '7'},\n",
       " 377: {'3', '7'},\n",
       " 378: {'3', '7', '8'},\n",
       " 379: {'3', '7', '9'},\n",
       " 380: {'0', '3', '8'},\n",
       " 381: {'1', '3', '8'},\n",
       " 382: {'2', '3', '8'},\n",
       " 383: {'3', '8'},\n",
       " 384: {'3', '4', '8'},\n",
       " 385: {'3', '5', '8'},\n",
       " 386: {'3', '6', '8'},\n",
       " 387: {'3', '7', '8'},\n",
       " 388: {'3', '8'},\n",
       " 389: {'3', '8', '9'},\n",
       " 390: {'0', '3', '9'},\n",
       " 391: {'1', '3', '9'},\n",
       " 392: {'2', '3', '9'},\n",
       " 393: {'3', '9'},\n",
       " 394: {'3', '4', '9'},\n",
       " 395: {'3', '5', '9'},\n",
       " 396: {'3', '6', '9'},\n",
       " 397: {'3', '7', '9'},\n",
       " 398: {'3', '8', '9'},\n",
       " 399: {'3', '9'},\n",
       " 400: {'0', '4'},\n",
       " 401: {'0', '1', '4'},\n",
       " 402: {'0', '2', '4'},\n",
       " 403: {'0', '3', '4'},\n",
       " 404: {'0', '4'},\n",
       " 405: {'0', '4', '5'},\n",
       " 406: {'0', '4', '6'},\n",
       " 407: {'0', '4', '7'},\n",
       " 408: {'0', '4', '8'},\n",
       " 409: {'0', '4', '9'},\n",
       " 410: {'0', '1', '4'},\n",
       " 411: {'1', '4'},\n",
       " 412: {'1', '2', '4'},\n",
       " 413: {'1', '3', '4'},\n",
       " 414: {'1', '4'},\n",
       " 415: {'1', '4', '5'},\n",
       " 416: {'1', '4', '6'},\n",
       " 417: {'1', '4', '7'},\n",
       " 418: {'1', '4', '8'},\n",
       " 419: {'1', '4', '9'},\n",
       " 420: {'0', '2', '4'},\n",
       " 421: {'1', '2', '4'},\n",
       " 422: {'2', '4'},\n",
       " 423: {'2', '3', '4'},\n",
       " 424: {'2', '4'},\n",
       " 425: {'2', '4', '5'},\n",
       " 426: {'2', '4', '6'},\n",
       " 427: {'2', '4', '7'},\n",
       " 428: {'2', '4', '8'},\n",
       " 429: {'2', '4', '9'},\n",
       " 430: {'0', '3', '4'},\n",
       " 431: {'1', '3', '4'},\n",
       " 432: {'2', '3', '4'},\n",
       " 433: {'3', '4'},\n",
       " 434: {'3', '4'},\n",
       " 435: {'3', '4', '5'},\n",
       " 436: {'3', '4', '6'},\n",
       " 437: {'3', '4', '7'},\n",
       " 438: {'3', '4', '8'},\n",
       " 439: {'3', '4', '9'},\n",
       " 440: {'0', '4'},\n",
       " 441: {'1', '4'},\n",
       " 442: {'2', '4'},\n",
       " 443: {'3', '4'},\n",
       " 444: {'4'},\n",
       " 445: {'4', '5'},\n",
       " 446: {'4', '6'},\n",
       " 447: {'4', '7'},\n",
       " 448: {'4', '8'},\n",
       " 449: {'4', '9'},\n",
       " 450: {'0', '4', '5'},\n",
       " 451: {'1', '4', '5'},\n",
       " 452: {'2', '4', '5'},\n",
       " 453: {'3', '4', '5'},\n",
       " 454: {'4', '5'},\n",
       " 455: {'4', '5'},\n",
       " 456: {'4', '5', '6'},\n",
       " 457: {'4', '5', '7'},\n",
       " 458: {'4', '5', '8'},\n",
       " 459: {'4', '5', '9'},\n",
       " 460: {'0', '4', '6'},\n",
       " 461: {'1', '4', '6'},\n",
       " 462: {'2', '4', '6'},\n",
       " 463: {'3', '4', '6'},\n",
       " 464: {'4', '6'},\n",
       " 465: {'4', '5', '6'},\n",
       " 466: {'4', '6'},\n",
       " 467: {'4', '6', '7'},\n",
       " 468: {'4', '6', '8'},\n",
       " 469: {'4', '6', '9'},\n",
       " 470: {'0', '4', '7'},\n",
       " 471: {'1', '4', '7'},\n",
       " 472: {'2', '4', '7'},\n",
       " 473: {'3', '4', '7'},\n",
       " 474: {'4', '7'},\n",
       " 475: {'4', '5', '7'},\n",
       " 476: {'4', '6', '7'},\n",
       " 477: {'4', '7'},\n",
       " 478: {'4', '7', '8'},\n",
       " 479: {'4', '7', '9'},\n",
       " 480: {'0', '4', '8'},\n",
       " 481: {'1', '4', '8'},\n",
       " 482: {'2', '4', '8'},\n",
       " 483: {'3', '4', '8'},\n",
       " 484: {'4', '8'},\n",
       " 485: {'4', '5', '8'},\n",
       " 486: {'4', '6', '8'},\n",
       " 487: {'4', '7', '8'},\n",
       " 488: {'4', '8'},\n",
       " 489: {'4', '8', '9'},\n",
       " 490: {'0', '4', '9'},\n",
       " 491: {'1', '4', '9'},\n",
       " 492: {'2', '4', '9'},\n",
       " 493: {'3', '4', '9'},\n",
       " 494: {'4', '9'},\n",
       " 495: {'4', '5', '9'},\n",
       " 496: {'4', '6', '9'},\n",
       " 497: {'4', '7', '9'},\n",
       " 498: {'4', '8', '9'},\n",
       " 499: {'4', '9'},\n",
       " 500: {'0', '5'},\n",
       " 501: {'0', '1', '5'},\n",
       " 502: {'0', '2', '5'},\n",
       " 503: {'0', '3', '5'},\n",
       " 504: {'0', '4', '5'},\n",
       " 505: {'0', '5'},\n",
       " 506: {'0', '5', '6'},\n",
       " 507: {'0', '5', '7'},\n",
       " 508: {'0', '5', '8'},\n",
       " 509: {'0', '5', '9'},\n",
       " 510: {'0', '1', '5'},\n",
       " 511: {'1', '5'},\n",
       " 512: {'1', '2', '5'},\n",
       " 513: {'1', '3', '5'},\n",
       " 514: {'1', '4', '5'},\n",
       " 515: {'1', '5'},\n",
       " 516: {'1', '5', '6'},\n",
       " 517: {'1', '5', '7'},\n",
       " 518: {'1', '5', '8'},\n",
       " 519: {'1', '5', '9'},\n",
       " 520: {'0', '2', '5'},\n",
       " 521: {'1', '2', '5'},\n",
       " 522: {'2', '5'},\n",
       " 523: {'2', '3', '5'},\n",
       " 524: {'2', '4', '5'},\n",
       " 525: {'2', '5'},\n",
       " 526: {'2', '5', '6'},\n",
       " 527: {'2', '5', '7'},\n",
       " 528: {'2', '5', '8'},\n",
       " 529: {'2', '5', '9'},\n",
       " 530: {'0', '3', '5'},\n",
       " 531: {'1', '3', '5'},\n",
       " 532: {'2', '3', '5'},\n",
       " 533: {'3', '5'},\n",
       " 534: {'3', '4', '5'},\n",
       " 535: {'3', '5'},\n",
       " 536: {'3', '5', '6'},\n",
       " 537: {'3', '5', '7'},\n",
       " 538: {'3', '5', '8'},\n",
       " 539: {'3', '5', '9'},\n",
       " 540: {'0', '4', '5'},\n",
       " 541: {'1', '4', '5'},\n",
       " 542: {'2', '4', '5'},\n",
       " 543: {'3', '4', '5'},\n",
       " 544: {'4', '5'},\n",
       " 545: {'4', '5'},\n",
       " 546: {'4', '5', '6'},\n",
       " 547: {'4', '5', '7'},\n",
       " 548: {'4', '5', '8'},\n",
       " 549: {'4', '5', '9'},\n",
       " 550: {'0', '5'},\n",
       " 551: {'1', '5'},\n",
       " 552: {'2', '5'},\n",
       " 553: {'3', '5'},\n",
       " 554: {'4', '5'},\n",
       " 555: {'5'},\n",
       " 556: {'5', '6'},\n",
       " 557: {'5', '7'},\n",
       " 558: {'5', '8'},\n",
       " 559: {'5', '9'},\n",
       " 560: {'0', '5', '6'},\n",
       " 561: {'1', '5', '6'},\n",
       " 562: {'2', '5', '6'},\n",
       " 563: {'3', '5', '6'},\n",
       " 564: {'4', '5', '6'},\n",
       " 565: {'5', '6'},\n",
       " 566: {'5', '6'},\n",
       " 567: {'5', '6', '7'},\n",
       " 568: {'5', '6', '8'},\n",
       " 569: {'5', '6', '9'},\n",
       " 570: {'0', '5', '7'},\n",
       " 571: {'1', '5', '7'},\n",
       " 572: {'2', '5', '7'},\n",
       " 573: {'3', '5', '7'},\n",
       " 574: {'4', '5', '7'},\n",
       " 575: {'5', '7'},\n",
       " 576: {'5', '6', '7'},\n",
       " 577: {'5', '7'},\n",
       " 578: {'5', '7', '8'},\n",
       " 579: {'5', '7', '9'},\n",
       " 580: {'0', '5', '8'},\n",
       " 581: {'1', '5', '8'},\n",
       " 582: {'2', '5', '8'},\n",
       " 583: {'3', '5', '8'},\n",
       " 584: {'4', '5', '8'},\n",
       " 585: {'5', '8'},\n",
       " 586: {'5', '6', '8'},\n",
       " 587: {'5', '7', '8'},\n",
       " 588: {'5', '8'},\n",
       " 589: {'5', '8', '9'},\n",
       " 590: {'0', '5', '9'},\n",
       " 591: {'1', '5', '9'},\n",
       " 592: {'2', '5', '9'},\n",
       " 593: {'3', '5', '9'},\n",
       " 594: {'4', '5', '9'},\n",
       " 595: {'5', '9'},\n",
       " 596: {'5', '6', '9'},\n",
       " 597: {'5', '7', '9'},\n",
       " 598: {'5', '8', '9'},\n",
       " 599: {'5', '9'},\n",
       " 600: {'0', '6'},\n",
       " 601: {'0', '1', '6'},\n",
       " 602: {'0', '2', '6'},\n",
       " 603: {'0', '3', '6'},\n",
       " 604: {'0', '4', '6'},\n",
       " 605: {'0', '5', '6'},\n",
       " 606: {'0', '6'},\n",
       " 607: {'0', '6', '7'},\n",
       " 608: {'0', '6', '8'},\n",
       " 609: {'0', '6', '9'},\n",
       " 610: {'0', '1', '6'},\n",
       " 611: {'1', '6'},\n",
       " 612: {'1', '2', '6'},\n",
       " 613: {'1', '3', '6'},\n",
       " 614: {'1', '4', '6'},\n",
       " 615: {'1', '5', '6'},\n",
       " 616: {'1', '6'},\n",
       " 617: {'1', '6', '7'},\n",
       " 618: {'1', '6', '8'},\n",
       " 619: {'1', '6', '9'},\n",
       " 620: {'0', '2', '6'},\n",
       " 621: {'1', '2', '6'},\n",
       " 622: {'2', '6'},\n",
       " 623: {'2', '3', '6'},\n",
       " 624: {'2', '4', '6'},\n",
       " 625: {'2', '5', '6'},\n",
       " 626: {'2', '6'},\n",
       " 627: {'2', '6', '7'},\n",
       " 628: {'2', '6', '8'},\n",
       " 629: {'2', '6', '9'},\n",
       " 630: {'0', '3', '6'},\n",
       " 631: {'1', '3', '6'},\n",
       " 632: {'2', '3', '6'},\n",
       " 633: {'3', '6'},\n",
       " 634: {'3', '4', '6'},\n",
       " 635: {'3', '5', '6'},\n",
       " 636: {'3', '6'},\n",
       " 637: {'3', '6', '7'},\n",
       " 638: {'3', '6', '8'},\n",
       " 639: {'3', '6', '9'},\n",
       " 640: {'0', '4', '6'},\n",
       " 641: {'1', '4', '6'},\n",
       " 642: {'2', '4', '6'},\n",
       " 643: {'3', '4', '6'},\n",
       " 644: {'4', '6'},\n",
       " 645: {'4', '5', '6'},\n",
       " 646: {'4', '6'},\n",
       " 647: {'4', '6', '7'},\n",
       " 648: {'4', '6', '8'},\n",
       " 649: {'4', '6', '9'},\n",
       " 650: {'0', '5', '6'},\n",
       " 651: {'1', '5', '6'},\n",
       " 652: {'2', '5', '6'},\n",
       " 653: {'3', '5', '6'},\n",
       " 654: {'4', '5', '6'},\n",
       " 655: {'5', '6'},\n",
       " 656: {'5', '6'},\n",
       " 657: {'5', '6', '7'},\n",
       " 658: {'5', '6', '8'},\n",
       " 659: {'5', '6', '9'},\n",
       " 660: {'0', '6'},\n",
       " 661: {'1', '6'},\n",
       " 662: {'2', '6'},\n",
       " 663: {'3', '6'},\n",
       " 664: {'4', '6'},\n",
       " 665: {'5', '6'},\n",
       " 666: {'6'},\n",
       " 667: {'6', '7'},\n",
       " 668: {'6', '8'},\n",
       " 669: {'6', '9'},\n",
       " 670: {'0', '6', '7'},\n",
       " 671: {'1', '6', '7'},\n",
       " 672: {'2', '6', '7'},\n",
       " 673: {'3', '6', '7'},\n",
       " 674: {'4', '6', '7'},\n",
       " 675: {'5', '6', '7'},\n",
       " 676: {'6', '7'},\n",
       " 677: {'6', '7'},\n",
       " 678: {'6', '7', '8'},\n",
       " 679: {'6', '7', '9'},\n",
       " 680: {'0', '6', '8'},\n",
       " 681: {'1', '6', '8'},\n",
       " 682: {'2', '6', '8'},\n",
       " 683: {'3', '6', '8'},\n",
       " 684: {'4', '6', '8'},\n",
       " 685: {'5', '6', '8'},\n",
       " 686: {'6', '8'},\n",
       " 687: {'6', '7', '8'},\n",
       " 688: {'6', '8'},\n",
       " 689: {'6', '8', '9'},\n",
       " 690: {'0', '6', '9'},\n",
       " 691: {'1', '6', '9'},\n",
       " 692: {'2', '6', '9'},\n",
       " 693: {'3', '6', '9'},\n",
       " 694: {'4', '6', '9'},\n",
       " 695: {'5', '6', '9'},\n",
       " 696: {'6', '9'},\n",
       " 697: {'6', '7', '9'},\n",
       " 698: {'6', '8', '9'},\n",
       " 699: {'6', '9'},\n",
       " 700: {'0', '7'},\n",
       " 701: {'0', '1', '7'},\n",
       " 702: {'0', '2', '7'},\n",
       " 703: {'0', '3', '7'},\n",
       " 704: {'0', '4', '7'},\n",
       " 705: {'0', '5', '7'},\n",
       " 706: {'0', '6', '7'},\n",
       " 707: {'0', '7'},\n",
       " 708: {'0', '7', '8'},\n",
       " 709: {'0', '7', '9'},\n",
       " 710: {'0', '1', '7'},\n",
       " 711: {'1', '7'},\n",
       " 712: {'1', '2', '7'},\n",
       " 713: {'1', '3', '7'},\n",
       " 714: {'1', '4', '7'},\n",
       " 715: {'1', '5', '7'},\n",
       " 716: {'1', '6', '7'},\n",
       " 717: {'1', '7'},\n",
       " 718: {'1', '7', '8'},\n",
       " 719: {'1', '7', '9'},\n",
       " 720: {'0', '2', '7'},\n",
       " 721: {'1', '2', '7'},\n",
       " 722: {'2', '7'},\n",
       " 723: {'2', '3', '7'},\n",
       " 724: {'2', '4', '7'},\n",
       " 725: {'2', '5', '7'},\n",
       " 726: {'2', '6', '7'},\n",
       " 727: {'2', '7'},\n",
       " 728: {'2', '7', '8'},\n",
       " 729: {'2', '7', '9'},\n",
       " 730: {'0', '3', '7'},\n",
       " 731: {'1', '3', '7'},\n",
       " 732: {'2', '3', '7'},\n",
       " 733: {'3', '7'},\n",
       " 734: {'3', '4', '7'},\n",
       " 735: {'3', '5', '7'},\n",
       " 736: {'3', '6', '7'},\n",
       " 737: {'3', '7'},\n",
       " 738: {'3', '7', '8'},\n",
       " 739: {'3', '7', '9'},\n",
       " 740: {'0', '4', '7'},\n",
       " 741: {'1', '4', '7'},\n",
       " 742: {'2', '4', '7'},\n",
       " 743: {'3', '4', '7'},\n",
       " 744: {'4', '7'},\n",
       " 745: {'4', '5', '7'},\n",
       " 746: {'4', '6', '7'},\n",
       " 747: {'4', '7'},\n",
       " 748: {'4', '7', '8'},\n",
       " 749: {'4', '7', '9'},\n",
       " 750: {'0', '5', '7'},\n",
       " 751: {'1', '5', '7'},\n",
       " 752: {'2', '5', '7'},\n",
       " 753: {'3', '5', '7'},\n",
       " 754: {'4', '5', '7'},\n",
       " 755: {'5', '7'},\n",
       " 756: {'5', '6', '7'},\n",
       " 757: {'5', '7'},\n",
       " 758: {'5', '7', '8'},\n",
       " 759: {'5', '7', '9'},\n",
       " 760: {'0', '6', '7'},\n",
       " 761: {'1', '6', '7'},\n",
       " 762: {'2', '6', '7'},\n",
       " 763: {'3', '6', '7'},\n",
       " 764: {'4', '6', '7'},\n",
       " 765: {'5', '6', '7'},\n",
       " 766: {'6', '7'},\n",
       " 767: {'6', '7'},\n",
       " 768: {'6', '7', '8'},\n",
       " 769: {'6', '7', '9'},\n",
       " 770: {'0', '7'},\n",
       " 771: {'1', '7'},\n",
       " 772: {'2', '7'},\n",
       " 773: {'3', '7'},\n",
       " 774: {'4', '7'},\n",
       " 775: {'5', '7'},\n",
       " 776: {'6', '7'},\n",
       " 777: {'7'},\n",
       " 778: {'7', '8'},\n",
       " 779: {'7', '9'},\n",
       " 780: {'0', '7', '8'},\n",
       " 781: {'1', '7', '8'},\n",
       " 782: {'2', '7', '8'},\n",
       " 783: {'3', '7', '8'},\n",
       " 784: {'4', '7', '8'},\n",
       " 785: {'5', '7', '8'},\n",
       " 786: {'6', '7', '8'},\n",
       " 787: {'7', '8'},\n",
       " 788: {'7', '8'},\n",
       " 789: {'7', '8', '9'},\n",
       " 790: {'0', '7', '9'},\n",
       " 791: {'1', '7', '9'},\n",
       " 792: {'2', '7', '9'},\n",
       " 793: {'3', '7', '9'},\n",
       " 794: {'4', '7', '9'},\n",
       " 795: {'5', '7', '9'},\n",
       " 796: {'6', '7', '9'},\n",
       " 797: {'7', '9'},\n",
       " 798: {'7', '8', '9'},\n",
       " 799: {'7', '9'},\n",
       " 800: {'0', '8'},\n",
       " 801: {'0', '1', '8'},\n",
       " 802: {'0', '2', '8'},\n",
       " 803: {'0', '3', '8'},\n",
       " 804: {'0', '4', '8'},\n",
       " 805: {'0', '5', '8'},\n",
       " 806: {'0', '6', '8'},\n",
       " 807: {'0', '7', '8'},\n",
       " 808: {'0', '8'},\n",
       " 809: {'0', '8', '9'},\n",
       " 810: {'0', '1', '8'},\n",
       " 811: {'1', '8'},\n",
       " 812: {'1', '2', '8'},\n",
       " 813: {'1', '3', '8'},\n",
       " 814: {'1', '4', '8'},\n",
       " 815: {'1', '5', '8'},\n",
       " 816: {'1', '6', '8'},\n",
       " 817: {'1', '7', '8'},\n",
       " 818: {'1', '8'},\n",
       " 819: {'1', '8', '9'},\n",
       " 820: {'0', '2', '8'},\n",
       " 821: {'1', '2', '8'},\n",
       " 822: {'2', '8'},\n",
       " 823: {'2', '3', '8'},\n",
       " 824: {'2', '4', '8'},\n",
       " 825: {'2', '5', '8'},\n",
       " 826: {'2', '6', '8'},\n",
       " 827: {'2', '7', '8'},\n",
       " 828: {'2', '8'},\n",
       " 829: {'2', '8', '9'},\n",
       " 830: {'0', '3', '8'},\n",
       " 831: {'1', '3', '8'},\n",
       " 832: {'2', '3', '8'},\n",
       " 833: {'3', '8'},\n",
       " 834: {'3', '4', '8'},\n",
       " 835: {'3', '5', '8'},\n",
       " 836: {'3', '6', '8'},\n",
       " 837: {'3', '7', '8'},\n",
       " 838: {'3', '8'},\n",
       " 839: {'3', '8', '9'},\n",
       " 840: {'0', '4', '8'},\n",
       " 841: {'1', '4', '8'},\n",
       " 842: {'2', '4', '8'},\n",
       " 843: {'3', '4', '8'},\n",
       " 844: {'4', '8'},\n",
       " 845: {'4', '5', '8'},\n",
       " 846: {'4', '6', '8'},\n",
       " 847: {'4', '7', '8'},\n",
       " 848: {'4', '8'},\n",
       " 849: {'4', '8', '9'},\n",
       " 850: {'0', '5', '8'},\n",
       " 851: {'1', '5', '8'},\n",
       " 852: {'2', '5', '8'},\n",
       " 853: {'3', '5', '8'},\n",
       " 854: {'4', '5', '8'},\n",
       " 855: {'5', '8'},\n",
       " 856: {'5', '6', '8'},\n",
       " 857: {'5', '7', '8'},\n",
       " 858: {'5', '8'},\n",
       " 859: {'5', '8', '9'},\n",
       " 860: {'0', '6', '8'},\n",
       " 861: {'1', '6', '8'},\n",
       " 862: {'2', '6', '8'},\n",
       " 863: {'3', '6', '8'},\n",
       " 864: {'4', '6', '8'},\n",
       " 865: {'5', '6', '8'},\n",
       " 866: {'6', '8'},\n",
       " 867: {'6', '7', '8'},\n",
       " 868: {'6', '8'},\n",
       " 869: {'6', '8', '9'},\n",
       " 870: {'0', '7', '8'},\n",
       " 871: {'1', '7', '8'},\n",
       " 872: {'2', '7', '8'},\n",
       " 873: {'3', '7', '8'},\n",
       " 874: {'4', '7', '8'},\n",
       " 875: {'5', '7', '8'},\n",
       " 876: {'6', '7', '8'},\n",
       " 877: {'7', '8'},\n",
       " 878: {'7', '8'},\n",
       " 879: {'7', '8', '9'},\n",
       " 880: {'0', '8'},\n",
       " 881: {'1', '8'},\n",
       " 882: {'2', '8'},\n",
       " 883: {'3', '8'},\n",
       " 884: {'4', '8'},\n",
       " 885: {'5', '8'},\n",
       " 886: {'6', '8'},\n",
       " 887: {'7', '8'},\n",
       " 888: {'8'},\n",
       " 889: {'8', '9'},\n",
       " 890: {'0', '8', '9'},\n",
       " 891: {'1', '8', '9'},\n",
       " 892: {'2', '8', '9'},\n",
       " 893: {'3', '8', '9'},\n",
       " 894: {'4', '8', '9'},\n",
       " 895: {'5', '8', '9'},\n",
       " 896: {'6', '8', '9'},\n",
       " 897: {'7', '8', '9'},\n",
       " 898: {'8', '9'},\n",
       " 899: {'8', '9'},\n",
       " 900: {'0', '9'},\n",
       " 901: {'0', '1', '9'},\n",
       " 902: {'0', '2', '9'},\n",
       " 903: {'0', '3', '9'},\n",
       " 904: {'0', '4', '9'},\n",
       " 905: {'0', '5', '9'},\n",
       " 906: {'0', '6', '9'},\n",
       " 907: {'0', '7', '9'},\n",
       " 908: {'0', '8', '9'},\n",
       " 909: {'0', '9'},\n",
       " 910: {'0', '1', '9'},\n",
       " 911: {'1', '9'},\n",
       " 912: {'1', '2', '9'},\n",
       " 913: {'1', '3', '9'},\n",
       " 914: {'1', '4', '9'},\n",
       " 915: {'1', '5', '9'},\n",
       " 916: {'1', '6', '9'},\n",
       " 917: {'1', '7', '9'},\n",
       " 918: {'1', '8', '9'},\n",
       " 919: {'1', '9'},\n",
       " 920: {'0', '2', '9'},\n",
       " 921: {'1', '2', '9'},\n",
       " 922: {'2', '9'},\n",
       " 923: {'2', '3', '9'},\n",
       " 924: {'2', '4', '9'},\n",
       " 925: {'2', '5', '9'},\n",
       " 926: {'2', '6', '9'},\n",
       " 927: {'2', '7', '9'},\n",
       " 928: {'2', '8', '9'},\n",
       " 929: {'2', '9'},\n",
       " 930: {'0', '3', '9'},\n",
       " 931: {'1', '3', '9'},\n",
       " 932: {'2', '3', '9'},\n",
       " 933: {'3', '9'},\n",
       " 934: {'3', '4', '9'},\n",
       " 935: {'3', '5', '9'},\n",
       " 936: {'3', '6', '9'},\n",
       " 937: {'3', '7', '9'},\n",
       " 938: {'3', '8', '9'},\n",
       " 939: {'3', '9'},\n",
       " 940: {'0', '4', '9'},\n",
       " 941: {'1', '4', '9'},\n",
       " 942: {'2', '4', '9'},\n",
       " 943: {'3', '4', '9'},\n",
       " 944: {'4', '9'},\n",
       " 945: {'4', '5', '9'},\n",
       " 946: {'4', '6', '9'},\n",
       " 947: {'4', '7', '9'},\n",
       " 948: {'4', '8', '9'},\n",
       " 949: {'4', '9'},\n",
       " 950: {'0', '5', '9'},\n",
       " 951: {'1', '5', '9'},\n",
       " 952: {'2', '5', '9'},\n",
       " 953: {'3', '5', '9'},\n",
       " 954: {'4', '5', '9'},\n",
       " 955: {'5', '9'},\n",
       " 956: {'5', '6', '9'},\n",
       " 957: {'5', '7', '9'},\n",
       " 958: {'5', '8', '9'},\n",
       " 959: {'5', '9'},\n",
       " 960: {'0', '6', '9'},\n",
       " 961: {'1', '6', '9'},\n",
       " 962: {'2', '6', '9'},\n",
       " 963: {'3', '6', '9'},\n",
       " 964: {'4', '6', '9'},\n",
       " 965: {'5', '6', '9'},\n",
       " 966: {'6', '9'},\n",
       " 967: {'6', '7', '9'},\n",
       " 968: {'6', '8', '9'},\n",
       " 969: {'6', '9'},\n",
       " 970: {'0', '7', '9'},\n",
       " 971: {'1', '7', '9'},\n",
       " 972: {'2', '7', '9'},\n",
       " 973: {'3', '7', '9'},\n",
       " 974: {'4', '7', '9'},\n",
       " 975: {'5', '7', '9'},\n",
       " 976: {'6', '7', '9'},\n",
       " 977: {'7', '9'},\n",
       " 978: {'7', '8', '9'},\n",
       " 979: {'7', '9'},\n",
       " 980: {'0', '8', '9'},\n",
       " 981: {'1', '8', '9'},\n",
       " 982: {'2', '8', '9'},\n",
       " 983: {'3', '8', '9'},\n",
       " 984: {'4', '8', '9'},\n",
       " 985: {'5', '8', '9'},\n",
       " 986: {'6', '8', '9'},\n",
       " 987: {'7', '8', '9'},\n",
       " 988: {'8', '9'},\n",
       " 989: {'8', '9'},\n",
       " 990: {'0', '9'},\n",
       " 991: {'1', '9'},\n",
       " 992: {'2', '9'},\n",
       " 993: {'3', '9'},\n",
       " 994: {'4', '9'},\n",
       " 995: {'5', '9'},\n",
       " 996: {'6', '9'},\n",
       " 997: {'7', '9'},\n",
       " 998: {'8', '9'},\n",
       " 999: {'9'},\n",
       " ...}"
      ]
     },
     "execution_count": 72,
     "metadata": {},
     "output_type": "execute_result"
    }
   ],
   "source": [
    "cifras = {num: {i for i in str(num)} for num in range(1000+1)}\n",
    "cifras"
   ]
  },
  {
   "cell_type": "markdown",
   "metadata": {},
   "source": [
    "- Devuelve sólo los número formados por una cifra"
   ]
  },
  {
   "cell_type": "code",
   "execution_count": 73,
   "metadata": {},
   "outputs": [
    {
     "data": {
      "text/plain": [
       "[0,\n",
       " 1,\n",
       " 2,\n",
       " 3,\n",
       " 4,\n",
       " 5,\n",
       " 6,\n",
       " 7,\n",
       " 8,\n",
       " 9,\n",
       " 11,\n",
       " 22,\n",
       " 33,\n",
       " 44,\n",
       " 55,\n",
       " 66,\n",
       " 77,\n",
       " 88,\n",
       " 99,\n",
       " 111,\n",
       " 222,\n",
       " 333,\n",
       " 444,\n",
       " 555,\n",
       " 666,\n",
       " 777,\n",
       " 888,\n",
       " 999]"
      ]
     },
     "execution_count": 73,
     "metadata": {},
     "output_type": "execute_result"
    }
   ],
   "source": [
    "[num for num, cifra in cifras.items() if len(cifra)==1]"
   ]
  }
 ],
 "metadata": {
  "kernelspec": {
   "display_name": "Python 3",
   "language": "python",
   "name": "python3"
  },
  "language_info": {
   "codemirror_mode": {
    "name": "ipython",
    "version": 3
   },
   "file_extension": ".py",
   "mimetype": "text/x-python",
   "name": "python",
   "nbconvert_exporter": "python",
   "pygments_lexer": "ipython3",
   "version": "3.7.1"
  }
 },
 "nbformat": 4,
 "nbformat_minor": 4
}
